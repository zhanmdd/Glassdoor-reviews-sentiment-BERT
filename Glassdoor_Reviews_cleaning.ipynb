{
  "nbformat": 4,
  "nbformat_minor": 0,
  "metadata": {
    "colab": {
      "name": "Glassdoor Reviews cleaning.ipynb",
      "provenance": [],
      "collapsed_sections": [],
      "toc_visible": true,
      "authorship_tag": "ABX9TyPESQL0WgS1A3HPeuCJ6lz5",
      "include_colab_link": true
    },
    "kernelspec": {
      "name": "python3",
      "display_name": "Python 3"
    }
  },
  "cells": [
    {
      "cell_type": "markdown",
      "metadata": {
        "id": "view-in-github",
        "colab_type": "text"
      },
      "source": [
        "<a href=\"https://colab.research.google.com/github/zhanmdd/glassdoor-reviews-sentiment-BERT/blob/master/Glassdoor_Reviews_cleaning.ipynb\" target=\"_parent\"><img src=\"https://colab.research.google.com/assets/colab-badge.svg\" alt=\"Open In Colab\"/></a>"
      ]
    },
    {
      "cell_type": "markdown",
      "metadata": {
        "id": "Rxd0co79YWqY",
        "colab_type": "text"
      },
      "source": [
        "# Importing Libraries and Uploading the Dataset\n"
      ]
    },
    {
      "cell_type": "code",
      "metadata": {
        "id": "0bZkzWNP0uqa",
        "colab_type": "code",
        "colab": {}
      },
      "source": [
        "import pandas as pd\n",
        "from google.colab import files\n",
        "import io"
      ],
      "execution_count": null,
      "outputs": []
    },
    {
      "cell_type": "code",
      "metadata": {
        "id": "dlFk5F9EapMM",
        "colab_type": "code",
        "colab": {
          "resources": {
            "http://localhost:8080/nbextensions/google.colab/files.js": {
              "data": "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",
              "ok": true,
              "headers": [
                [
                  "content-type",
                  "application/javascript"
                ]
              ],
              "status": 200,
              "status_text": ""
            }
          },
          "base_uri": "https://localhost:8080/",
          "height": 72
        },
        "outputId": "bdb6f240-a0b1-459a-99bd-e13bf543c580"
      },
      "source": [
        "uploaded = files.upload()\n",
        "df = pd.read_csv(io.BytesIO(uploaded['data.csv']))"
      ],
      "execution_count": null,
      "outputs": [
        {
          "output_type": "display_data",
          "data": {
            "text/html": [
              "\n",
              "     <input type=\"file\" id=\"files-c28c8956-d2d5-42d0-b303-bf4b2b5813bd\" name=\"files[]\" multiple disabled\n",
              "        style=\"border:none\" />\n",
              "     <output id=\"result-c28c8956-d2d5-42d0-b303-bf4b2b5813bd\">\n",
              "      Upload widget is only available when the cell has been executed in the\n",
              "      current browser session. Please rerun this cell to enable.\n",
              "      </output>\n",
              "      <script src=\"/nbextensions/google.colab/files.js\"></script> "
            ],
            "text/plain": [
              "<IPython.core.display.HTML object>"
            ]
          },
          "metadata": {
            "tags": []
          }
        },
        {
          "output_type": "stream",
          "text": [
            "Saving data.csv to data.csv\n"
          ],
          "name": "stdout"
        }
      ]
    },
    {
      "cell_type": "markdown",
      "metadata": {
        "id": "aE4TNPpExjPU",
        "colab_type": "text"
      },
      "source": [
        "#What needs to be 'cleaned' and 'fixed'?"
      ]
    },
    {
      "cell_type": "markdown",
      "metadata": {
        "id": "VDn0Ob1w1YSh",
        "colab_type": "text"
      },
      "source": [
        "###Observing the dataset"
      ]
    },
    {
      "cell_type": "code",
      "metadata": {
        "id": "0qswCpMGVIKj",
        "colab_type": "code",
        "colab": {
          "base_uri": "https://localhost:8080/",
          "height": 938
        },
        "outputId": "0a60c8cc-fb66-4534-f9fb-d9d2d736bf04"
      },
      "source": [
        "df.info()\n",
        "df.head()"
      ],
      "execution_count": null,
      "outputs": [
        {
          "output_type": "stream",
          "text": [
            "<class 'pandas.core.frame.DataFrame'>\n",
            "RangeIndex: 10124 entries, 0 to 10123\n",
            "Data columns (total 10 columns):\n",
            " #   Column           Non-Null Count  Dtype \n",
            "---  ------           --------------  ----- \n",
            " 0   date             10124 non-null  object\n",
            " 1   employee_title   5926 non-null   object\n",
            " 2   location         6239 non-null   object\n",
            " 3   employee_status  10124 non-null  object\n",
            " 4   review_title     10113 non-null  object\n",
            " 5   main_text        10124 non-null  object\n",
            " 6   pros             10124 non-null  object\n",
            " 7   cons             10124 non-null  object\n",
            " 8   rating_overall   10124 non-null  object\n",
            " 9   company_name     10124 non-null  object\n",
            "dtypes: object(10)\n",
            "memory usage: 791.1+ KB\n"
          ],
          "name": "stdout"
        },
        {
          "output_type": "execute_result",
          "data": {
            "text/html": [
              "<div>\n",
              "<style scoped>\n",
              "    .dataframe tbody tr th:only-of-type {\n",
              "        vertical-align: middle;\n",
              "    }\n",
              "\n",
              "    .dataframe tbody tr th {\n",
              "        vertical-align: top;\n",
              "    }\n",
              "\n",
              "    .dataframe thead th {\n",
              "        text-align: right;\n",
              "    }\n",
              "</style>\n",
              "<table border=\"1\" class=\"dataframe\">\n",
              "  <thead>\n",
              "    <tr style=\"text-align: right;\">\n",
              "      <th></th>\n",
              "      <th>date</th>\n",
              "      <th>employee_title</th>\n",
              "      <th>location</th>\n",
              "      <th>employee_status</th>\n",
              "      <th>review_title</th>\n",
              "      <th>main_text</th>\n",
              "      <th>pros</th>\n",
              "      <th>cons</th>\n",
              "      <th>rating_overall</th>\n",
              "      <th>company_name</th>\n",
              "    </tr>\n",
              "  </thead>\n",
              "  <tbody>\n",
              "    <tr>\n",
              "      <th>0</th>\n",
              "      <td>Wed Jan 22 2020 08:38:01 GMT+0900 (Korean Stan...</td>\n",
              "      <td>Market Research Analyst II</td>\n",
              "      <td>Richmond, VA</td>\n",
              "      <td>Current Employee</td>\n",
              "      <td>Best company I had ever worked for in 3 decades</td>\n",
              "      <td>I have been working at CoStar Group full-time ...</td>\n",
              "      <td>Senior Management is always cheerful and knows...</td>\n",
              "      <td>We have to share our building.</td>\n",
              "      <td>5.0\\n★★★★★</td>\n",
              "      <td>CoStar-Group</td>\n",
              "    </tr>\n",
              "    <tr>\n",
              "      <th>1</th>\n",
              "      <td>Thu Jul 16 2020 10:23:06 GMT+0900 (Korean Stan...</td>\n",
              "      <td>Inside Sales Representative</td>\n",
              "      <td>NaN</td>\n",
              "      <td>Current Employee</td>\n",
              "      <td>Great Place to Make Money</td>\n",
              "      <td>I have been working at CoStar Group full-time</td>\n",
              "      <td>The product is the best out and there and it s...</td>\n",
              "      <td>Lack of communication between departments</td>\n",
              "      <td>5.0\\n★★★★★</td>\n",
              "      <td>CoStar-Group</td>\n",
              "    </tr>\n",
              "    <tr>\n",
              "      <th>2</th>\n",
              "      <td>Thu Jul 16 2020 10:49:00 GMT+0900 (Korean Stan...</td>\n",
              "      <td>Inside Sales Representative</td>\n",
              "      <td>Washington, DC</td>\n",
              "      <td>Current Employee</td>\n",
              "      <td>Great place to start a career and make money</td>\n",
              "      <td>I have been working at CoStar Group full-time ...</td>\n",
              "      <td>The inside sales team is an entry level sales ...</td>\n",
              "      <td>Communication from departments is lacking due ...</td>\n",
              "      <td>5.0\\n★★★★★</td>\n",
              "      <td>CoStar-Group</td>\n",
              "    </tr>\n",
              "    <tr>\n",
              "      <th>3</th>\n",
              "      <td>Wed Jul 15 2020 11:13:00 GMT+0900 (Korean Stan...</td>\n",
              "      <td>Senior Account Manager</td>\n",
              "      <td>Washington, DC</td>\n",
              "      <td>Former Employee</td>\n",
              "      <td>Great Company</td>\n",
              "      <td>I worked at CoStar Group full-time for more th...</td>\n",
              "      <td>Experience. Growth. Culture. CEO. Motivating</td>\n",
              "      <td>Inexperienced managers who managed in demotiva...</td>\n",
              "      <td>4.0\\n★★★★★</td>\n",
              "      <td>CoStar-Group</td>\n",
              "    </tr>\n",
              "    <tr>\n",
              "      <th>4</th>\n",
              "      <td>Tue Jul 21 2020 17:49:46 GMT+0900 (Korean Stan...</td>\n",
              "      <td>Tenant Research Associate</td>\n",
              "      <td>Richmond, VA</td>\n",
              "      <td>Current Employee</td>\n",
              "      <td>DO NOT GET SUCKED FOR THE MONEY!!!</td>\n",
              "      <td>I have been working at CoStar Group full-time ...</td>\n",
              "      <td>Pay good benefits coworkers Christmas party gr...</td>\n",
              "      <td>They hate to be the word \"call-center,\" but th...</td>\n",
              "      <td>2.0\\n★★★★★</td>\n",
              "      <td>CoStar-Group</td>\n",
              "    </tr>\n",
              "  </tbody>\n",
              "</table>\n",
              "</div>"
            ],
            "text/plain": [
              "                                                date  ...  company_name\n",
              "0  Wed Jan 22 2020 08:38:01 GMT+0900 (Korean Stan...  ...  CoStar-Group\n",
              "1  Thu Jul 16 2020 10:23:06 GMT+0900 (Korean Stan...  ...  CoStar-Group\n",
              "2  Thu Jul 16 2020 10:49:00 GMT+0900 (Korean Stan...  ...  CoStar-Group\n",
              "3  Wed Jul 15 2020 11:13:00 GMT+0900 (Korean Stan...  ...  CoStar-Group\n",
              "4  Tue Jul 21 2020 17:49:46 GMT+0900 (Korean Stan...  ...  CoStar-Group\n",
              "\n",
              "[5 rows x 10 columns]"
            ]
          },
          "metadata": {
            "tags": []
          },
          "execution_count": 3
        }
      ]
    },
    {
      "cell_type": "markdown",
      "metadata": {
        "id": "QVDlpBN_xvkT",
        "colab_type": "text"
      },
      "source": [
        "###List of things to be done\n",
        "\n",
        "1.   Convert **'date'** column into datetime type for EDA\n",
        "2.   Parse **'location'** column into **'city'** and **'state'** columns for EDA\n",
        "3. Combine **'review_title',\t'main_text',\t'pros',\t'cons'** into a single **'reviews'** column for a model\n",
        "4. Remove '★★★★★' in **'rating_overall'** and convert it to float for EDA and a model\n",
        "5. Include 'sentiment' column\n",
        "6. Improve the order of the columns\n",
        "\n",
        "\n",
        "\n",
        "\n",
        "\n"
      ]
    },
    {
      "cell_type": "markdown",
      "metadata": {
        "id": "70EQZyWMbErE",
        "colab_type": "text"
      },
      "source": [
        "#Data Cleaning"
      ]
    },
    {
      "cell_type": "markdown",
      "metadata": {
        "id": "ewaq9xSd1r4J",
        "colab_type": "text"
      },
      "source": [
        "###1.   Converting **'date'** column into datetime"
      ]
    },
    {
      "cell_type": "code",
      "metadata": {
        "id": "fqNK0M04Rxms",
        "colab_type": "code",
        "colab": {
          "base_uri": "https://localhost:8080/",
          "height": 564
        },
        "outputId": "e674f72b-d277-40ca-f8bf-7fea1b3d4eaa"
      },
      "source": [
        "#loop through each row and select [0:24] characters from the string:\n",
        "#Example: Wed Jan 22 2020 08:38:01\n",
        "for x in range(0, len(df)):\n",
        "  df.date[x] = df.date[x][0:24]\n",
        "df.date = pd.to_datetime(df.date)\n",
        "df.head()"
      ],
      "execution_count": null,
      "outputs": [
        {
          "output_type": "execute_result",
          "data": {
            "text/html": [
              "<div>\n",
              "<style scoped>\n",
              "    .dataframe tbody tr th:only-of-type {\n",
              "        vertical-align: middle;\n",
              "    }\n",
              "\n",
              "    .dataframe tbody tr th {\n",
              "        vertical-align: top;\n",
              "    }\n",
              "\n",
              "    .dataframe thead th {\n",
              "        text-align: right;\n",
              "    }\n",
              "</style>\n",
              "<table border=\"1\" class=\"dataframe\">\n",
              "  <thead>\n",
              "    <tr style=\"text-align: right;\">\n",
              "      <th></th>\n",
              "      <th>date</th>\n",
              "      <th>employee_title</th>\n",
              "      <th>location</th>\n",
              "      <th>employee_status</th>\n",
              "      <th>review_title</th>\n",
              "      <th>main_text</th>\n",
              "      <th>pros</th>\n",
              "      <th>cons</th>\n",
              "      <th>rating_overall</th>\n",
              "      <th>company_name</th>\n",
              "    </tr>\n",
              "  </thead>\n",
              "  <tbody>\n",
              "    <tr>\n",
              "      <th>0</th>\n",
              "      <td>2020-01-22 08:38:01</td>\n",
              "      <td>Market Research Analyst II</td>\n",
              "      <td>Richmond, VA</td>\n",
              "      <td>Current Employee</td>\n",
              "      <td>Best company I had ever worked for in 3 decades</td>\n",
              "      <td>I have been working at CoStar Group full-time ...</td>\n",
              "      <td>Senior Management is always cheerful and knows...</td>\n",
              "      <td>We have to share our building.</td>\n",
              "      <td>5.0\\n★★★★★</td>\n",
              "      <td>CoStar-Group</td>\n",
              "    </tr>\n",
              "    <tr>\n",
              "      <th>1</th>\n",
              "      <td>2020-07-16 10:23:06</td>\n",
              "      <td>Inside Sales Representative</td>\n",
              "      <td>NaN</td>\n",
              "      <td>Current Employee</td>\n",
              "      <td>Great Place to Make Money</td>\n",
              "      <td>I have been working at CoStar Group full-time</td>\n",
              "      <td>The product is the best out and there and it s...</td>\n",
              "      <td>Lack of communication between departments</td>\n",
              "      <td>5.0\\n★★★★★</td>\n",
              "      <td>CoStar-Group</td>\n",
              "    </tr>\n",
              "    <tr>\n",
              "      <th>2</th>\n",
              "      <td>2020-07-16 10:49:00</td>\n",
              "      <td>Inside Sales Representative</td>\n",
              "      <td>Washington, DC</td>\n",
              "      <td>Current Employee</td>\n",
              "      <td>Great place to start a career and make money</td>\n",
              "      <td>I have been working at CoStar Group full-time ...</td>\n",
              "      <td>The inside sales team is an entry level sales ...</td>\n",
              "      <td>Communication from departments is lacking due ...</td>\n",
              "      <td>5.0\\n★★★★★</td>\n",
              "      <td>CoStar-Group</td>\n",
              "    </tr>\n",
              "    <tr>\n",
              "      <th>3</th>\n",
              "      <td>2020-07-15 11:13:00</td>\n",
              "      <td>Senior Account Manager</td>\n",
              "      <td>Washington, DC</td>\n",
              "      <td>Former Employee</td>\n",
              "      <td>Great Company</td>\n",
              "      <td>I worked at CoStar Group full-time for more th...</td>\n",
              "      <td>Experience. Growth. Culture. CEO. Motivating</td>\n",
              "      <td>Inexperienced managers who managed in demotiva...</td>\n",
              "      <td>4.0\\n★★★★★</td>\n",
              "      <td>CoStar-Group</td>\n",
              "    </tr>\n",
              "    <tr>\n",
              "      <th>4</th>\n",
              "      <td>2020-07-21 17:49:46</td>\n",
              "      <td>Tenant Research Associate</td>\n",
              "      <td>Richmond, VA</td>\n",
              "      <td>Current Employee</td>\n",
              "      <td>DO NOT GET SUCKED FOR THE MONEY!!!</td>\n",
              "      <td>I have been working at CoStar Group full-time ...</td>\n",
              "      <td>Pay good benefits coworkers Christmas party gr...</td>\n",
              "      <td>They hate to be the word \"call-center,\" but th...</td>\n",
              "      <td>2.0\\n★★★★★</td>\n",
              "      <td>CoStar-Group</td>\n",
              "    </tr>\n",
              "  </tbody>\n",
              "</table>\n",
              "</div>"
            ],
            "text/plain": [
              "                 date  ...  company_name\n",
              "0 2020-01-22 08:38:01  ...  CoStar-Group\n",
              "1 2020-07-16 10:23:06  ...  CoStar-Group\n",
              "2 2020-07-16 10:49:00  ...  CoStar-Group\n",
              "3 2020-07-15 11:13:00  ...  CoStar-Group\n",
              "4 2020-07-21 17:49:46  ...  CoStar-Group\n",
              "\n",
              "[5 rows x 10 columns]"
            ]
          },
          "metadata": {
            "tags": []
          },
          "execution_count": 4
        }
      ]
    },
    {
      "cell_type": "markdown",
      "metadata": {
        "id": "ZXbifcca2F72",
        "colab_type": "text"
      },
      "source": [
        "###2.   Parsing **'location'** column into **'city'** and **'state'** columns"
      ]
    },
    {
      "cell_type": "code",
      "metadata": {
        "id": "-oW-23FtTxPc",
        "colab_type": "code",
        "colab": {
          "base_uri": "https://localhost:8080/",
          "height": 734
        },
        "outputId": "cea4cdde-88c3-4e2a-a1b1-4e40eac4de77"
      },
      "source": [
        "#new empty columns\n",
        "df['city'] = ''\n",
        "df['state'] = ''\n",
        "\n",
        "#make sure all values are str type\n",
        "df['location'] = df['location'].astype(str)\n",
        "\n",
        "#loop through each value\n",
        "for x in range(0, len(df)):\n",
        "  l = len(df['location'][x].split(', ')) #split each value: City, State into list [City, State]\n",
        "  if  l >= 2:\n",
        "    df['city'][x] = df['location'][x].split(', ')[0] #insert City under 'city' column\n",
        "    df['state'][x] = df['location'][x].split(', ')[1] #insert State under 'state' column\n",
        "  else:\n",
        "    pass\n",
        "\n",
        "df = df.drop(columns = ['location']) #remove the initial 'location' column\n",
        "df.head()"
      ],
      "execution_count": null,
      "outputs": [
        {
          "output_type": "stream",
          "text": [
            "/usr/local/lib/python3.6/dist-packages/ipykernel_launcher.py:12: SettingWithCopyWarning: \n",
            "A value is trying to be set on a copy of a slice from a DataFrame\n",
            "\n",
            "See the caveats in the documentation: https://pandas.pydata.org/pandas-docs/stable/user_guide/indexing.html#returning-a-view-versus-a-copy\n",
            "  if sys.path[0] == '':\n",
            "/usr/local/lib/python3.6/dist-packages/ipykernel_launcher.py:13: SettingWithCopyWarning: \n",
            "A value is trying to be set on a copy of a slice from a DataFrame\n",
            "\n",
            "See the caveats in the documentation: https://pandas.pydata.org/pandas-docs/stable/user_guide/indexing.html#returning-a-view-versus-a-copy\n",
            "  del sys.path[0]\n"
          ],
          "name": "stderr"
        },
        {
          "output_type": "execute_result",
          "data": {
            "text/html": [
              "<div>\n",
              "<style scoped>\n",
              "    .dataframe tbody tr th:only-of-type {\n",
              "        vertical-align: middle;\n",
              "    }\n",
              "\n",
              "    .dataframe tbody tr th {\n",
              "        vertical-align: top;\n",
              "    }\n",
              "\n",
              "    .dataframe thead th {\n",
              "        text-align: right;\n",
              "    }\n",
              "</style>\n",
              "<table border=\"1\" class=\"dataframe\">\n",
              "  <thead>\n",
              "    <tr style=\"text-align: right;\">\n",
              "      <th></th>\n",
              "      <th>date</th>\n",
              "      <th>employee_title</th>\n",
              "      <th>employee_status</th>\n",
              "      <th>review_title</th>\n",
              "      <th>main_text</th>\n",
              "      <th>pros</th>\n",
              "      <th>cons</th>\n",
              "      <th>rating_overall</th>\n",
              "      <th>company_name</th>\n",
              "      <th>city</th>\n",
              "      <th>state</th>\n",
              "    </tr>\n",
              "  </thead>\n",
              "  <tbody>\n",
              "    <tr>\n",
              "      <th>0</th>\n",
              "      <td>2020-01-22 08:38:01</td>\n",
              "      <td>Market Research Analyst II</td>\n",
              "      <td>Current Employee</td>\n",
              "      <td>Best company I had ever worked for in 3 decades</td>\n",
              "      <td>I have been working at CoStar Group full-time ...</td>\n",
              "      <td>Senior Management is always cheerful and knows...</td>\n",
              "      <td>We have to share our building.</td>\n",
              "      <td>5.0\\n★★★★★</td>\n",
              "      <td>CoStar-Group</td>\n",
              "      <td>Richmond</td>\n",
              "      <td>VA</td>\n",
              "    </tr>\n",
              "    <tr>\n",
              "      <th>1</th>\n",
              "      <td>2020-07-16 10:23:06</td>\n",
              "      <td>Inside Sales Representative</td>\n",
              "      <td>Current Employee</td>\n",
              "      <td>Great Place to Make Money</td>\n",
              "      <td>I have been working at CoStar Group full-time</td>\n",
              "      <td>The product is the best out and there and it s...</td>\n",
              "      <td>Lack of communication between departments</td>\n",
              "      <td>5.0\\n★★★★★</td>\n",
              "      <td>CoStar-Group</td>\n",
              "      <td></td>\n",
              "      <td></td>\n",
              "    </tr>\n",
              "    <tr>\n",
              "      <th>2</th>\n",
              "      <td>2020-07-16 10:49:00</td>\n",
              "      <td>Inside Sales Representative</td>\n",
              "      <td>Current Employee</td>\n",
              "      <td>Great place to start a career and make money</td>\n",
              "      <td>I have been working at CoStar Group full-time ...</td>\n",
              "      <td>The inside sales team is an entry level sales ...</td>\n",
              "      <td>Communication from departments is lacking due ...</td>\n",
              "      <td>5.0\\n★★★★★</td>\n",
              "      <td>CoStar-Group</td>\n",
              "      <td>Washington</td>\n",
              "      <td>DC</td>\n",
              "    </tr>\n",
              "    <tr>\n",
              "      <th>3</th>\n",
              "      <td>2020-07-15 11:13:00</td>\n",
              "      <td>Senior Account Manager</td>\n",
              "      <td>Former Employee</td>\n",
              "      <td>Great Company</td>\n",
              "      <td>I worked at CoStar Group full-time for more th...</td>\n",
              "      <td>Experience. Growth. Culture. CEO. Motivating</td>\n",
              "      <td>Inexperienced managers who managed in demotiva...</td>\n",
              "      <td>4.0\\n★★★★★</td>\n",
              "      <td>CoStar-Group</td>\n",
              "      <td>Washington</td>\n",
              "      <td>DC</td>\n",
              "    </tr>\n",
              "    <tr>\n",
              "      <th>4</th>\n",
              "      <td>2020-07-21 17:49:46</td>\n",
              "      <td>Tenant Research Associate</td>\n",
              "      <td>Current Employee</td>\n",
              "      <td>DO NOT GET SUCKED FOR THE MONEY!!!</td>\n",
              "      <td>I have been working at CoStar Group full-time ...</td>\n",
              "      <td>Pay good benefits coworkers Christmas party gr...</td>\n",
              "      <td>They hate to be the word \"call-center,\" but th...</td>\n",
              "      <td>2.0\\n★★★★★</td>\n",
              "      <td>CoStar-Group</td>\n",
              "      <td>Richmond</td>\n",
              "      <td>VA</td>\n",
              "    </tr>\n",
              "  </tbody>\n",
              "</table>\n",
              "</div>"
            ],
            "text/plain": [
              "                 date                employee_title  ...        city state\n",
              "0 2020-01-22 08:38:01    Market Research Analyst II  ...    Richmond    VA\n",
              "1 2020-07-16 10:23:06   Inside Sales Representative  ...                  \n",
              "2 2020-07-16 10:49:00   Inside Sales Representative  ...  Washington    DC\n",
              "3 2020-07-15 11:13:00        Senior Account Manager  ...  Washington    DC\n",
              "4 2020-07-21 17:49:46     Tenant Research Associate  ...    Richmond    VA\n",
              "\n",
              "[5 rows x 11 columns]"
            ]
          },
          "metadata": {
            "tags": []
          },
          "execution_count": 5
        }
      ]
    },
    {
      "cell_type": "markdown",
      "metadata": {
        "id": "LTTPEFGi6D-v",
        "colab_type": "text"
      },
      "source": [
        "### 3. Combining 'review_title', 'main_text', 'pros', 'cons' into a single 'review' column for a model"
      ]
    },
    {
      "cell_type": "code",
      "metadata": {
        "id": "lMn59_THgm4n",
        "colab_type": "code",
        "colab": {
          "base_uri": "https://localhost:8080/",
          "height": 632
        },
        "outputId": "e1e7569d-761d-49ee-e4c6-e1c7b4437d5d"
      },
      "source": [
        "#make sure that these columns are str type\n",
        "df[['review_title', 'main_text', 'pros', 'cons']] = df[['review_title', 'main_text', 'pros', 'cons']].astype(str)\n",
        "\n",
        "#This funtion writes a dot at the end of a sentence if it doesn't end with one\n",
        "#We need it when combining the columns to have separations between sentences.\n",
        "def period(string):\n",
        "  if string[-1] == '.' or string[-1] == '!' or string[-1] == '?':\n",
        "    return string\n",
        "  else:\n",
        "    new_string = string = string +'. '\n",
        "    return new_string \n",
        "\n",
        "for i in range(0,len(df)):\n",
        "  df.review_title[i] = period(df.review_title[i])\n",
        "  df.main_text[i] = period(df.main_text[i])\n",
        "  df.pros[i] = period(df.pros[i])\n",
        "  df.cons[i] = period(df.cons[i])\n",
        "\n",
        "#combine 'review_title', 'main_text', 'pros', 'cons' into single 'review' column\n",
        "df['review'] = df['review_title'] + df['main_text'] + df['pros'] + df['cons']\n",
        "df = df.drop(columns = ['review_title','main_text','pros','cons'])\n",
        "\n",
        "df.head()"
      ],
      "execution_count": null,
      "outputs": [
        {
          "output_type": "stream",
          "text": [
            "/usr/local/lib/python3.6/dist-packages/ipykernel_launcher.py:14: SettingWithCopyWarning: \n",
            "A value is trying to be set on a copy of a slice from a DataFrame\n",
            "\n",
            "See the caveats in the documentation: https://pandas.pydata.org/pandas-docs/stable/user_guide/indexing.html#returning-a-view-versus-a-copy\n",
            "  \n",
            "/usr/local/lib/python3.6/dist-packages/ipykernel_launcher.py:15: SettingWithCopyWarning: \n",
            "A value is trying to be set on a copy of a slice from a DataFrame\n",
            "\n",
            "See the caveats in the documentation: https://pandas.pydata.org/pandas-docs/stable/user_guide/indexing.html#returning-a-view-versus-a-copy\n",
            "  from ipykernel import kernelapp as app\n",
            "/usr/local/lib/python3.6/dist-packages/ipykernel_launcher.py:16: SettingWithCopyWarning: \n",
            "A value is trying to be set on a copy of a slice from a DataFrame\n",
            "\n",
            "See the caveats in the documentation: https://pandas.pydata.org/pandas-docs/stable/user_guide/indexing.html#returning-a-view-versus-a-copy\n",
            "  app.launch_new_instance()\n",
            "/usr/local/lib/python3.6/dist-packages/ipykernel_launcher.py:17: SettingWithCopyWarning: \n",
            "A value is trying to be set on a copy of a slice from a DataFrame\n",
            "\n",
            "See the caveats in the documentation: https://pandas.pydata.org/pandas-docs/stable/user_guide/indexing.html#returning-a-view-versus-a-copy\n"
          ],
          "name": "stderr"
        },
        {
          "output_type": "execute_result",
          "data": {
            "text/html": [
              "<div>\n",
              "<style scoped>\n",
              "    .dataframe tbody tr th:only-of-type {\n",
              "        vertical-align: middle;\n",
              "    }\n",
              "\n",
              "    .dataframe tbody tr th {\n",
              "        vertical-align: top;\n",
              "    }\n",
              "\n",
              "    .dataframe thead th {\n",
              "        text-align: right;\n",
              "    }\n",
              "</style>\n",
              "<table border=\"1\" class=\"dataframe\">\n",
              "  <thead>\n",
              "    <tr style=\"text-align: right;\">\n",
              "      <th></th>\n",
              "      <th>date</th>\n",
              "      <th>employee_title</th>\n",
              "      <th>employee_status</th>\n",
              "      <th>rating_overall</th>\n",
              "      <th>company_name</th>\n",
              "      <th>city</th>\n",
              "      <th>state</th>\n",
              "      <th>review</th>\n",
              "    </tr>\n",
              "  </thead>\n",
              "  <tbody>\n",
              "    <tr>\n",
              "      <th>0</th>\n",
              "      <td>2020-01-22 08:38:01</td>\n",
              "      <td>Market Research Analyst II</td>\n",
              "      <td>Current Employee</td>\n",
              "      <td>5.0\\n★★★★★</td>\n",
              "      <td>CoStar-Group</td>\n",
              "      <td>Richmond</td>\n",
              "      <td>VA</td>\n",
              "      <td>Best company I had ever worked for in 3 decade...</td>\n",
              "    </tr>\n",
              "    <tr>\n",
              "      <th>1</th>\n",
              "      <td>2020-07-16 10:23:06</td>\n",
              "      <td>Inside Sales Representative</td>\n",
              "      <td>Current Employee</td>\n",
              "      <td>5.0\\n★★★★★</td>\n",
              "      <td>CoStar-Group</td>\n",
              "      <td></td>\n",
              "      <td></td>\n",
              "      <td>Great Place to Make Money. I have been working...</td>\n",
              "    </tr>\n",
              "    <tr>\n",
              "      <th>2</th>\n",
              "      <td>2020-07-16 10:49:00</td>\n",
              "      <td>Inside Sales Representative</td>\n",
              "      <td>Current Employee</td>\n",
              "      <td>5.0\\n★★★★★</td>\n",
              "      <td>CoStar-Group</td>\n",
              "      <td>Washington</td>\n",
              "      <td>DC</td>\n",
              "      <td>Great place to start a career and make money. ...</td>\n",
              "    </tr>\n",
              "    <tr>\n",
              "      <th>3</th>\n",
              "      <td>2020-07-15 11:13:00</td>\n",
              "      <td>Senior Account Manager</td>\n",
              "      <td>Former Employee</td>\n",
              "      <td>4.0\\n★★★★★</td>\n",
              "      <td>CoStar-Group</td>\n",
              "      <td>Washington</td>\n",
              "      <td>DC</td>\n",
              "      <td>Great Company. I worked at CoStar Group full-t...</td>\n",
              "    </tr>\n",
              "    <tr>\n",
              "      <th>4</th>\n",
              "      <td>2020-07-21 17:49:46</td>\n",
              "      <td>Tenant Research Associate</td>\n",
              "      <td>Current Employee</td>\n",
              "      <td>2.0\\n★★★★★</td>\n",
              "      <td>CoStar-Group</td>\n",
              "      <td>Richmond</td>\n",
              "      <td>VA</td>\n",
              "      <td>DO NOT GET SUCKED FOR THE MONEY!!!I have been ...</td>\n",
              "    </tr>\n",
              "  </tbody>\n",
              "</table>\n",
              "</div>"
            ],
            "text/plain": [
              "                 date  ...                                             review\n",
              "0 2020-01-22 08:38:01  ...  Best company I had ever worked for in 3 decade...\n",
              "1 2020-07-16 10:23:06  ...  Great Place to Make Money. I have been working...\n",
              "2 2020-07-16 10:49:00  ...  Great place to start a career and make money. ...\n",
              "3 2020-07-15 11:13:00  ...  Great Company. I worked at CoStar Group full-t...\n",
              "4 2020-07-21 17:49:46  ...  DO NOT GET SUCKED FOR THE MONEY!!!I have been ...\n",
              "\n",
              "[5 rows x 8 columns]"
            ]
          },
          "metadata": {
            "tags": []
          },
          "execution_count": 6
        }
      ]
    },
    {
      "cell_type": "markdown",
      "metadata": {
        "id": "eCRH43-XwrYj",
        "colab_type": "text"
      },
      "source": [
        "### 4. Removing '★★★★★' in 'rating_overall' and converting it to float"
      ]
    },
    {
      "cell_type": "code",
      "metadata": {
        "id": "IFeQdh6LBGWP",
        "colab_type": "code",
        "colab": {
          "base_uri": "https://localhost:8080/",
          "height": 589
        },
        "outputId": "5bb8ca06-cd84-40d7-a41c-056b695fe920"
      },
      "source": [
        "df['rating'] = pd.to_numeric(df.rating_overall.str.replace('★★★★★', '').str.strip())\n",
        "df.drop(columns = ['rating_overall'])"
      ],
      "execution_count": null,
      "outputs": [
        {
          "output_type": "execute_result",
          "data": {
            "text/html": [
              "<div>\n",
              "<style scoped>\n",
              "    .dataframe tbody tr th:only-of-type {\n",
              "        vertical-align: middle;\n",
              "    }\n",
              "\n",
              "    .dataframe tbody tr th {\n",
              "        vertical-align: top;\n",
              "    }\n",
              "\n",
              "    .dataframe thead th {\n",
              "        text-align: right;\n",
              "    }\n",
              "</style>\n",
              "<table border=\"1\" class=\"dataframe\">\n",
              "  <thead>\n",
              "    <tr style=\"text-align: right;\">\n",
              "      <th></th>\n",
              "      <th>date</th>\n",
              "      <th>employee_title</th>\n",
              "      <th>employee_status</th>\n",
              "      <th>company_name</th>\n",
              "      <th>city</th>\n",
              "      <th>state</th>\n",
              "      <th>review</th>\n",
              "      <th>rating</th>\n",
              "    </tr>\n",
              "  </thead>\n",
              "  <tbody>\n",
              "    <tr>\n",
              "      <th>0</th>\n",
              "      <td>2020-01-22 08:38:01</td>\n",
              "      <td>Market Research Analyst II</td>\n",
              "      <td>Current Employee</td>\n",
              "      <td>CoStar-Group</td>\n",
              "      <td>Richmond</td>\n",
              "      <td>VA</td>\n",
              "      <td>Best company I had ever worked for in 3 decade...</td>\n",
              "      <td>5.0</td>\n",
              "    </tr>\n",
              "    <tr>\n",
              "      <th>1</th>\n",
              "      <td>2020-07-16 10:23:06</td>\n",
              "      <td>Inside Sales Representative</td>\n",
              "      <td>Current Employee</td>\n",
              "      <td>CoStar-Group</td>\n",
              "      <td></td>\n",
              "      <td></td>\n",
              "      <td>Great Place to Make Money. I have been working...</td>\n",
              "      <td>5.0</td>\n",
              "    </tr>\n",
              "    <tr>\n",
              "      <th>2</th>\n",
              "      <td>2020-07-16 10:49:00</td>\n",
              "      <td>Inside Sales Representative</td>\n",
              "      <td>Current Employee</td>\n",
              "      <td>CoStar-Group</td>\n",
              "      <td>Washington</td>\n",
              "      <td>DC</td>\n",
              "      <td>Great place to start a career and make money. ...</td>\n",
              "      <td>5.0</td>\n",
              "    </tr>\n",
              "    <tr>\n",
              "      <th>3</th>\n",
              "      <td>2020-07-15 11:13:00</td>\n",
              "      <td>Senior Account Manager</td>\n",
              "      <td>Former Employee</td>\n",
              "      <td>CoStar-Group</td>\n",
              "      <td>Washington</td>\n",
              "      <td>DC</td>\n",
              "      <td>Great Company. I worked at CoStar Group full-t...</td>\n",
              "      <td>4.0</td>\n",
              "    </tr>\n",
              "    <tr>\n",
              "      <th>4</th>\n",
              "      <td>2020-07-21 17:49:46</td>\n",
              "      <td>Tenant Research Associate</td>\n",
              "      <td>Current Employee</td>\n",
              "      <td>CoStar-Group</td>\n",
              "      <td>Richmond</td>\n",
              "      <td>VA</td>\n",
              "      <td>DO NOT GET SUCKED FOR THE MONEY!!!I have been ...</td>\n",
              "      <td>2.0</td>\n",
              "    </tr>\n",
              "    <tr>\n",
              "      <th>...</th>\n",
              "      <td>...</td>\n",
              "      <td>...</td>\n",
              "      <td>...</td>\n",
              "      <td>...</td>\n",
              "      <td>...</td>\n",
              "      <td>...</td>\n",
              "      <td>...</td>\n",
              "      <td>...</td>\n",
              "    </tr>\n",
              "    <tr>\n",
              "      <th>10119</th>\n",
              "      <td>2014-12-09 21:49:42</td>\n",
              "      <td>NaN</td>\n",
              "      <td></td>\n",
              "      <td>Perficient</td>\n",
              "      <td></td>\n",
              "      <td></td>\n",
              "      <td>Growing Company. I have been working at Perfic...</td>\n",
              "      <td>4.0</td>\n",
              "    </tr>\n",
              "    <tr>\n",
              "      <th>10120</th>\n",
              "      <td>2014-12-03 12:29:17</td>\n",
              "      <td>NaN</td>\n",
              "      <td></td>\n",
              "      <td>Perficient</td>\n",
              "      <td></td>\n",
              "      <td></td>\n",
              "      <td>Solid consulting company. I have been working ...</td>\n",
              "      <td>4.0</td>\n",
              "    </tr>\n",
              "    <tr>\n",
              "      <th>10121</th>\n",
              "      <td>2014-11-26 11:29:18</td>\n",
              "      <td>Software Developer</td>\n",
              "      <td>Current Employee</td>\n",
              "      <td>Perficient</td>\n",
              "      <td>San Francisco</td>\n",
              "      <td>CA</td>\n",
              "      <td>java, html, css developer. I have been working...</td>\n",
              "      <td>3.0</td>\n",
              "    </tr>\n",
              "    <tr>\n",
              "      <th>10122</th>\n",
              "      <td>2014-11-06 11:23:58</td>\n",
              "      <td>NaN</td>\n",
              "      <td>Current Employee</td>\n",
              "      <td>Perficient</td>\n",
              "      <td></td>\n",
              "      <td></td>\n",
              "      <td>Overall good company. I have been working at P...</td>\n",
              "      <td>4.0</td>\n",
              "    </tr>\n",
              "    <tr>\n",
              "      <th>10123</th>\n",
              "      <td>2014-11-03 12:10:09</td>\n",
              "      <td>Delivery Director</td>\n",
              "      <td>Current Employee</td>\n",
              "      <td>Perficient</td>\n",
              "      <td></td>\n",
              "      <td></td>\n",
              "      <td>SFDC Practice is growing, innovative and chall...</td>\n",
              "      <td>4.0</td>\n",
              "    </tr>\n",
              "  </tbody>\n",
              "</table>\n",
              "<p>10124 rows × 8 columns</p>\n",
              "</div>"
            ],
            "text/plain": [
              "                     date  ... rating\n",
              "0     2020-01-22 08:38:01  ...    5.0\n",
              "1     2020-07-16 10:23:06  ...    5.0\n",
              "2     2020-07-16 10:49:00  ...    5.0\n",
              "3     2020-07-15 11:13:00  ...    4.0\n",
              "4     2020-07-21 17:49:46  ...    2.0\n",
              "...                   ...  ...    ...\n",
              "10119 2014-12-09 21:49:42  ...    4.0\n",
              "10120 2014-12-03 12:29:17  ...    4.0\n",
              "10121 2014-11-26 11:29:18  ...    3.0\n",
              "10122 2014-11-06 11:23:58  ...    4.0\n",
              "10123 2014-11-03 12:10:09  ...    4.0\n",
              "\n",
              "[10124 rows x 8 columns]"
            ]
          },
          "metadata": {
            "tags": []
          },
          "execution_count": 7
        }
      ]
    },
    {
      "cell_type": "markdown",
      "metadata": {
        "id": "aiFud1B4uP8m",
        "colab_type": "text"
      },
      "source": [
        "### 5. Including 'sentiment' column"
      ]
    },
    {
      "cell_type": "code",
      "metadata": {
        "id": "C7BSAtqbudO3",
        "colab_type": "code",
        "colab": {
          "base_uri": "https://localhost:8080/",
          "height": 561
        },
        "outputId": "7370be14-0735-4700-943a-213f1c10f992"
      },
      "source": [
        "def create_sentiment(x):\n",
        "  if x <= 2:\n",
        "    return 0\n",
        "  elif x == 3:\n",
        "    return 1\n",
        "  else: \n",
        "    return 2\n",
        "df['sentiment'] = df.rating.apply(create_sentiment)\n",
        "df.head()"
      ],
      "execution_count": null,
      "outputs": [
        {
          "output_type": "execute_result",
          "data": {
            "text/html": [
              "<div>\n",
              "<style scoped>\n",
              "    .dataframe tbody tr th:only-of-type {\n",
              "        vertical-align: middle;\n",
              "    }\n",
              "\n",
              "    .dataframe tbody tr th {\n",
              "        vertical-align: top;\n",
              "    }\n",
              "\n",
              "    .dataframe thead th {\n",
              "        text-align: right;\n",
              "    }\n",
              "</style>\n",
              "<table border=\"1\" class=\"dataframe\">\n",
              "  <thead>\n",
              "    <tr style=\"text-align: right;\">\n",
              "      <th></th>\n",
              "      <th>date</th>\n",
              "      <th>employee_title</th>\n",
              "      <th>employee_status</th>\n",
              "      <th>rating_overall</th>\n",
              "      <th>company_name</th>\n",
              "      <th>city</th>\n",
              "      <th>state</th>\n",
              "      <th>review</th>\n",
              "      <th>rating</th>\n",
              "      <th>sentiment</th>\n",
              "    </tr>\n",
              "  </thead>\n",
              "  <tbody>\n",
              "    <tr>\n",
              "      <th>0</th>\n",
              "      <td>2020-01-22 08:38:01</td>\n",
              "      <td>Market Research Analyst II</td>\n",
              "      <td>Current Employee</td>\n",
              "      <td>5.0\\n★★★★★</td>\n",
              "      <td>CoStar-Group</td>\n",
              "      <td>Richmond</td>\n",
              "      <td>VA</td>\n",
              "      <td>Best company I had ever worked for in 3 decade...</td>\n",
              "      <td>5.0</td>\n",
              "      <td>2</td>\n",
              "    </tr>\n",
              "    <tr>\n",
              "      <th>1</th>\n",
              "      <td>2020-07-16 10:23:06</td>\n",
              "      <td>Inside Sales Representative</td>\n",
              "      <td>Current Employee</td>\n",
              "      <td>5.0\\n★★★★★</td>\n",
              "      <td>CoStar-Group</td>\n",
              "      <td></td>\n",
              "      <td></td>\n",
              "      <td>Great Place to Make Money. I have been working...</td>\n",
              "      <td>5.0</td>\n",
              "      <td>2</td>\n",
              "    </tr>\n",
              "    <tr>\n",
              "      <th>2</th>\n",
              "      <td>2020-07-16 10:49:00</td>\n",
              "      <td>Inside Sales Representative</td>\n",
              "      <td>Current Employee</td>\n",
              "      <td>5.0\\n★★★★★</td>\n",
              "      <td>CoStar-Group</td>\n",
              "      <td>Washington</td>\n",
              "      <td>DC</td>\n",
              "      <td>Great place to start a career and make money. ...</td>\n",
              "      <td>5.0</td>\n",
              "      <td>2</td>\n",
              "    </tr>\n",
              "    <tr>\n",
              "      <th>3</th>\n",
              "      <td>2020-07-15 11:13:00</td>\n",
              "      <td>Senior Account Manager</td>\n",
              "      <td>Former Employee</td>\n",
              "      <td>4.0\\n★★★★★</td>\n",
              "      <td>CoStar-Group</td>\n",
              "      <td>Washington</td>\n",
              "      <td>DC</td>\n",
              "      <td>Great Company. I worked at CoStar Group full-t...</td>\n",
              "      <td>4.0</td>\n",
              "      <td>2</td>\n",
              "    </tr>\n",
              "    <tr>\n",
              "      <th>4</th>\n",
              "      <td>2020-07-21 17:49:46</td>\n",
              "      <td>Tenant Research Associate</td>\n",
              "      <td>Current Employee</td>\n",
              "      <td>2.0\\n★★★★★</td>\n",
              "      <td>CoStar-Group</td>\n",
              "      <td>Richmond</td>\n",
              "      <td>VA</td>\n",
              "      <td>DO NOT GET SUCKED FOR THE MONEY!!!I have been ...</td>\n",
              "      <td>2.0</td>\n",
              "      <td>0</td>\n",
              "    </tr>\n",
              "  </tbody>\n",
              "</table>\n",
              "</div>"
            ],
            "text/plain": [
              "                 date                employee_title  ... rating sentiment\n",
              "0 2020-01-22 08:38:01    Market Research Analyst II  ...    5.0         2\n",
              "1 2020-07-16 10:23:06   Inside Sales Representative  ...    5.0         2\n",
              "2 2020-07-16 10:49:00   Inside Sales Representative  ...    5.0         2\n",
              "3 2020-07-15 11:13:00        Senior Account Manager  ...    4.0         2\n",
              "4 2020-07-21 17:49:46     Tenant Research Associate  ...    2.0         0\n",
              "\n",
              "[5 rows x 10 columns]"
            ]
          },
          "metadata": {
            "tags": []
          },
          "execution_count": 8
        }
      ]
    },
    {
      "cell_type": "markdown",
      "metadata": {
        "id": "mml0pITM6usJ",
        "colab_type": "text"
      },
      "source": [
        "###6. Improving the order of the columns"
      ]
    },
    {
      "cell_type": "code",
      "metadata": {
        "id": "9XnA2IpN64Vq",
        "colab_type": "code",
        "colab": {}
      },
      "source": [
        "df = df[['company_name', 'employee_title', 'employee_status', 'state', 'city', 'date', 'rating', 'sentiment', 'review']]"
      ],
      "execution_count": null,
      "outputs": []
    },
    {
      "cell_type": "code",
      "metadata": {
        "id": "L63S2VHD9ns7",
        "colab_type": "code",
        "colab": {
          "base_uri": "https://localhost:8080/",
          "height": 561
        },
        "outputId": "5df1995d-9eae-4779-82a6-5466be5dd290"
      },
      "source": [
        "df.info()\n",
        "df.head()"
      ],
      "execution_count": null,
      "outputs": [
        {
          "output_type": "stream",
          "text": [
            "<class 'pandas.core.frame.DataFrame'>\n",
            "RangeIndex: 10124 entries, 0 to 10123\n",
            "Data columns (total 9 columns):\n",
            " #   Column           Non-Null Count  Dtype         \n",
            "---  ------           --------------  -----         \n",
            " 0   company_name     10124 non-null  object        \n",
            " 1   employee_title   5926 non-null   object        \n",
            " 2   employee_status  10124 non-null  object        \n",
            " 3   state            10124 non-null  object        \n",
            " 4   city             10124 non-null  object        \n",
            " 5   date             10124 non-null  datetime64[ns]\n",
            " 6   rating           10124 non-null  float64       \n",
            " 7   sentiment        10124 non-null  int64         \n",
            " 8   review           10124 non-null  object        \n",
            "dtypes: datetime64[ns](1), float64(1), int64(1), object(6)\n",
            "memory usage: 712.0+ KB\n"
          ],
          "name": "stdout"
        },
        {
          "output_type": "execute_result",
          "data": {
            "text/html": [
              "<div>\n",
              "<style scoped>\n",
              "    .dataframe tbody tr th:only-of-type {\n",
              "        vertical-align: middle;\n",
              "    }\n",
              "\n",
              "    .dataframe tbody tr th {\n",
              "        vertical-align: top;\n",
              "    }\n",
              "\n",
              "    .dataframe thead th {\n",
              "        text-align: right;\n",
              "    }\n",
              "</style>\n",
              "<table border=\"1\" class=\"dataframe\">\n",
              "  <thead>\n",
              "    <tr style=\"text-align: right;\">\n",
              "      <th></th>\n",
              "      <th>company_name</th>\n",
              "      <th>employee_title</th>\n",
              "      <th>employee_status</th>\n",
              "      <th>state</th>\n",
              "      <th>city</th>\n",
              "      <th>date</th>\n",
              "      <th>rating</th>\n",
              "      <th>sentiment</th>\n",
              "      <th>review</th>\n",
              "    </tr>\n",
              "  </thead>\n",
              "  <tbody>\n",
              "    <tr>\n",
              "      <th>0</th>\n",
              "      <td>CoStar-Group</td>\n",
              "      <td>Market Research Analyst II</td>\n",
              "      <td>Current Employee</td>\n",
              "      <td>VA</td>\n",
              "      <td>Richmond</td>\n",
              "      <td>2020-01-22 08:38:01</td>\n",
              "      <td>5.0</td>\n",
              "      <td>2</td>\n",
              "      <td>Best company I had ever worked for in 3 decade...</td>\n",
              "    </tr>\n",
              "    <tr>\n",
              "      <th>1</th>\n",
              "      <td>CoStar-Group</td>\n",
              "      <td>Inside Sales Representative</td>\n",
              "      <td>Current Employee</td>\n",
              "      <td></td>\n",
              "      <td></td>\n",
              "      <td>2020-07-16 10:23:06</td>\n",
              "      <td>5.0</td>\n",
              "      <td>2</td>\n",
              "      <td>Great Place to Make Money. I have been working...</td>\n",
              "    </tr>\n",
              "    <tr>\n",
              "      <th>2</th>\n",
              "      <td>CoStar-Group</td>\n",
              "      <td>Inside Sales Representative</td>\n",
              "      <td>Current Employee</td>\n",
              "      <td>DC</td>\n",
              "      <td>Washington</td>\n",
              "      <td>2020-07-16 10:49:00</td>\n",
              "      <td>5.0</td>\n",
              "      <td>2</td>\n",
              "      <td>Great place to start a career and make money. ...</td>\n",
              "    </tr>\n",
              "    <tr>\n",
              "      <th>3</th>\n",
              "      <td>CoStar-Group</td>\n",
              "      <td>Senior Account Manager</td>\n",
              "      <td>Former Employee</td>\n",
              "      <td>DC</td>\n",
              "      <td>Washington</td>\n",
              "      <td>2020-07-15 11:13:00</td>\n",
              "      <td>4.0</td>\n",
              "      <td>2</td>\n",
              "      <td>Great Company. I worked at CoStar Group full-t...</td>\n",
              "    </tr>\n",
              "    <tr>\n",
              "      <th>4</th>\n",
              "      <td>CoStar-Group</td>\n",
              "      <td>Tenant Research Associate</td>\n",
              "      <td>Current Employee</td>\n",
              "      <td>VA</td>\n",
              "      <td>Richmond</td>\n",
              "      <td>2020-07-21 17:49:46</td>\n",
              "      <td>2.0</td>\n",
              "      <td>0</td>\n",
              "      <td>DO NOT GET SUCKED FOR THE MONEY!!!I have been ...</td>\n",
              "    </tr>\n",
              "  </tbody>\n",
              "</table>\n",
              "</div>"
            ],
            "text/plain": [
              "   company_name  ...                                             review\n",
              "0  CoStar-Group  ...  Best company I had ever worked for in 3 decade...\n",
              "1  CoStar-Group  ...  Great Place to Make Money. I have been working...\n",
              "2  CoStar-Group  ...  Great place to start a career and make money. ...\n",
              "3  CoStar-Group  ...  Great Company. I worked at CoStar Group full-t...\n",
              "4  CoStar-Group  ...  DO NOT GET SUCKED FOR THE MONEY!!!I have been ...\n",
              "\n",
              "[5 rows x 9 columns]"
            ]
          },
          "metadata": {
            "tags": []
          },
          "execution_count": 10
        }
      ]
    },
    {
      "cell_type": "markdown",
      "metadata": {
        "id": "oDtYgptSjUAx",
        "colab_type": "text"
      },
      "source": [
        "#Exporting"
      ]
    },
    {
      "cell_type": "code",
      "metadata": {
        "id": "qTSJiQN9jTDR",
        "colab_type": "code",
        "colab": {
          "base_uri": "https://localhost:8080/",
          "height": 17
        },
        "outputId": "a709f599-0721-45d4-c312-d0cfedf65f39"
      },
      "source": [
        "from google.colab import files\n",
        "df.to_csv('df_cleaned.csv', index=False) \n",
        "files.download('df_cleaned.csv')"
      ],
      "execution_count": null,
      "outputs": [
        {
          "output_type": "display_data",
          "data": {
            "application/javascript": [
              "\n",
              "    async function download(id, filename, size) {\n",
              "      if (!google.colab.kernel.accessAllowed) {\n",
              "        return;\n",
              "      }\n",
              "      const div = document.createElement('div');\n",
              "      const label = document.createElement('label');\n",
              "      label.textContent = `Downloading \"${filename}\": `;\n",
              "      div.appendChild(label);\n",
              "      const progress = document.createElement('progress');\n",
              "      progress.max = size;\n",
              "      div.appendChild(progress);\n",
              "      document.body.appendChild(div);\n",
              "\n",
              "      const buffers = [];\n",
              "      let downloaded = 0;\n",
              "\n",
              "      const channel = await google.colab.kernel.comms.open(id);\n",
              "      // Send a message to notify the kernel that we're ready.\n",
              "      channel.send({})\n",
              "\n",
              "      for await (const message of channel.messages) {\n",
              "        // Send a message to notify the kernel that we're ready.\n",
              "        channel.send({})\n",
              "        if (message.buffers) {\n",
              "          for (const buffer of message.buffers) {\n",
              "            buffers.push(buffer);\n",
              "            downloaded += buffer.byteLength;\n",
              "            progress.value = downloaded;\n",
              "          }\n",
              "        }\n",
              "      }\n",
              "      const blob = new Blob(buffers, {type: 'application/binary'});\n",
              "      const a = document.createElement('a');\n",
              "      a.href = window.URL.createObjectURL(blob);\n",
              "      a.download = filename;\n",
              "      div.appendChild(a);\n",
              "      a.click();\n",
              "      div.remove();\n",
              "    }\n",
              "  "
            ],
            "text/plain": [
              "<IPython.core.display.Javascript object>"
            ]
          },
          "metadata": {
            "tags": []
          }
        },
        {
          "output_type": "display_data",
          "data": {
            "application/javascript": [
              "download(\"download_dbd9e3ef-c33f-4738-a153-f97b4b0dc1d1\", \"df_cleaned.csv\", 6243725)"
            ],
            "text/plain": [
              "<IPython.core.display.Javascript object>"
            ]
          },
          "metadata": {
            "tags": []
          }
        }
      ]
    }
  ]
}