{
  "nbformat": 4,
  "nbformat_minor": 0,
  "metadata": {
    "colab": {
      "name": "Glassdoor Reviews Preprocessing and Sentiment Analysis .ipynb",
      "provenance": [],
      "collapsed_sections": [],
      "toc_visible": true,
      "authorship_tag": "ABX9TyPqrQFBPz8qshxDtCGxinBq",
      "include_colab_link": true
    },
    "kernelspec": {
      "name": "python3",
      "display_name": "Python 3"
    },
    "accelerator": "GPU",
    "widgets": {
      "application/vnd.jupyter.widget-state+json": {
        "f249eb5cbc4a4f0ba50050f87cbf443f": {
          "model_module": "@jupyter-widgets/controls",
          "model_name": "HBoxModel",
          "state": {
            "_view_name": "HBoxView",
            "_dom_classes": [],
            "_model_name": "HBoxModel",
            "_view_module": "@jupyter-widgets/controls",
            "_model_module_version": "1.5.0",
            "_view_count": null,
            "_view_module_version": "1.5.0",
            "box_style": "",
            "layout": "IPY_MODEL_a04ac97115e141069b22301065469c2f",
            "_model_module": "@jupyter-widgets/controls",
            "children": [
              "IPY_MODEL_8df14dd5cce94ae097b8e26fb8e499de",
              "IPY_MODEL_13ed010732d34e859a295ab576e3cf0c"
            ]
          }
        },
        "a04ac97115e141069b22301065469c2f": {
          "model_module": "@jupyter-widgets/base",
          "model_name": "LayoutModel",
          "state": {
            "_view_name": "LayoutView",
            "grid_template_rows": null,
            "right": null,
            "justify_content": null,
            "_view_module": "@jupyter-widgets/base",
            "overflow": null,
            "_model_module_version": "1.2.0",
            "_view_count": null,
            "flex_flow": null,
            "width": null,
            "min_width": null,
            "border": null,
            "align_items": null,
            "bottom": null,
            "_model_module": "@jupyter-widgets/base",
            "top": null,
            "grid_column": null,
            "overflow_y": null,
            "overflow_x": null,
            "grid_auto_flow": null,
            "grid_area": null,
            "grid_template_columns": null,
            "flex": null,
            "_model_name": "LayoutModel",
            "justify_items": null,
            "grid_row": null,
            "max_height": null,
            "align_content": null,
            "visibility": null,
            "align_self": null,
            "height": null,
            "min_height": null,
            "padding": null,
            "grid_auto_rows": null,
            "grid_gap": null,
            "max_width": null,
            "order": null,
            "_view_module_version": "1.2.0",
            "grid_template_areas": null,
            "object_position": null,
            "object_fit": null,
            "grid_auto_columns": null,
            "margin": null,
            "display": null,
            "left": null
          }
        },
        "8df14dd5cce94ae097b8e26fb8e499de": {
          "model_module": "@jupyter-widgets/controls",
          "model_name": "FloatProgressModel",
          "state": {
            "_view_name": "ProgressView",
            "style": "IPY_MODEL_6676e59218434771b57a3f087be74fbf",
            "_dom_classes": [],
            "description": "Downloading: 100%",
            "_model_name": "FloatProgressModel",
            "bar_style": "success",
            "max": 213450,
            "_view_module": "@jupyter-widgets/controls",
            "_model_module_version": "1.5.0",
            "value": 213450,
            "_view_count": null,
            "_view_module_version": "1.5.0",
            "orientation": "horizontal",
            "min": 0,
            "description_tooltip": null,
            "_model_module": "@jupyter-widgets/controls",
            "layout": "IPY_MODEL_79b9a6d767c54f3b8a1e3ceb3d6658c0"
          }
        },
        "13ed010732d34e859a295ab576e3cf0c": {
          "model_module": "@jupyter-widgets/controls",
          "model_name": "HTMLModel",
          "state": {
            "_view_name": "HTMLView",
            "style": "IPY_MODEL_2ac52e2ed53447ecafdac66a917070df",
            "_dom_classes": [],
            "description": "",
            "_model_name": "HTMLModel",
            "placeholder": "​",
            "_view_module": "@jupyter-widgets/controls",
            "_model_module_version": "1.5.0",
            "value": " 213k/213k [00:00&lt;00:00, 363kB/s]",
            "_view_count": null,
            "_view_module_version": "1.5.0",
            "description_tooltip": null,
            "_model_module": "@jupyter-widgets/controls",
            "layout": "IPY_MODEL_cd27dc2f6bbe4dbf97aae702fac91777"
          }
        },
        "6676e59218434771b57a3f087be74fbf": {
          "model_module": "@jupyter-widgets/controls",
          "model_name": "ProgressStyleModel",
          "state": {
            "_view_name": "StyleView",
            "_model_name": "ProgressStyleModel",
            "description_width": "initial",
            "_view_module": "@jupyter-widgets/base",
            "_model_module_version": "1.5.0",
            "_view_count": null,
            "_view_module_version": "1.2.0",
            "bar_color": null,
            "_model_module": "@jupyter-widgets/controls"
          }
        },
        "79b9a6d767c54f3b8a1e3ceb3d6658c0": {
          "model_module": "@jupyter-widgets/base",
          "model_name": "LayoutModel",
          "state": {
            "_view_name": "LayoutView",
            "grid_template_rows": null,
            "right": null,
            "justify_content": null,
            "_view_module": "@jupyter-widgets/base",
            "overflow": null,
            "_model_module_version": "1.2.0",
            "_view_count": null,
            "flex_flow": null,
            "width": null,
            "min_width": null,
            "border": null,
            "align_items": null,
            "bottom": null,
            "_model_module": "@jupyter-widgets/base",
            "top": null,
            "grid_column": null,
            "overflow_y": null,
            "overflow_x": null,
            "grid_auto_flow": null,
            "grid_area": null,
            "grid_template_columns": null,
            "flex": null,
            "_model_name": "LayoutModel",
            "justify_items": null,
            "grid_row": null,
            "max_height": null,
            "align_content": null,
            "visibility": null,
            "align_self": null,
            "height": null,
            "min_height": null,
            "padding": null,
            "grid_auto_rows": null,
            "grid_gap": null,
            "max_width": null,
            "order": null,
            "_view_module_version": "1.2.0",
            "grid_template_areas": null,
            "object_position": null,
            "object_fit": null,
            "grid_auto_columns": null,
            "margin": null,
            "display": null,
            "left": null
          }
        },
        "2ac52e2ed53447ecafdac66a917070df": {
          "model_module": "@jupyter-widgets/controls",
          "model_name": "DescriptionStyleModel",
          "state": {
            "_view_name": "StyleView",
            "_model_name": "DescriptionStyleModel",
            "description_width": "",
            "_view_module": "@jupyter-widgets/base",
            "_model_module_version": "1.5.0",
            "_view_count": null,
            "_view_module_version": "1.2.0",
            "_model_module": "@jupyter-widgets/controls"
          }
        },
        "cd27dc2f6bbe4dbf97aae702fac91777": {
          "model_module": "@jupyter-widgets/base",
          "model_name": "LayoutModel",
          "state": {
            "_view_name": "LayoutView",
            "grid_template_rows": null,
            "right": null,
            "justify_content": null,
            "_view_module": "@jupyter-widgets/base",
            "overflow": null,
            "_model_module_version": "1.2.0",
            "_view_count": null,
            "flex_flow": null,
            "width": null,
            "min_width": null,
            "border": null,
            "align_items": null,
            "bottom": null,
            "_model_module": "@jupyter-widgets/base",
            "top": null,
            "grid_column": null,
            "overflow_y": null,
            "overflow_x": null,
            "grid_auto_flow": null,
            "grid_area": null,
            "grid_template_columns": null,
            "flex": null,
            "_model_name": "LayoutModel",
            "justify_items": null,
            "grid_row": null,
            "max_height": null,
            "align_content": null,
            "visibility": null,
            "align_self": null,
            "height": null,
            "min_height": null,
            "padding": null,
            "grid_auto_rows": null,
            "grid_gap": null,
            "max_width": null,
            "order": null,
            "_view_module_version": "1.2.0",
            "grid_template_areas": null,
            "object_position": null,
            "object_fit": null,
            "grid_auto_columns": null,
            "margin": null,
            "display": null,
            "left": null
          }
        },
        "e09c1647b5a746d09b2e397493ee3001": {
          "model_module": "@jupyter-widgets/controls",
          "model_name": "HBoxModel",
          "state": {
            "_view_name": "HBoxView",
            "_dom_classes": [],
            "_model_name": "HBoxModel",
            "_view_module": "@jupyter-widgets/controls",
            "_model_module_version": "1.5.0",
            "_view_count": null,
            "_view_module_version": "1.5.0",
            "box_style": "",
            "layout": "IPY_MODEL_2fc00cedb83d48519c2ab867f850e963",
            "_model_module": "@jupyter-widgets/controls",
            "children": [
              "IPY_MODEL_682ab49354664e4db3ff4facc9648d9e",
              "IPY_MODEL_3bbb67d396404c0dafc114259ef8e22e"
            ]
          }
        },
        "2fc00cedb83d48519c2ab867f850e963": {
          "model_module": "@jupyter-widgets/base",
          "model_name": "LayoutModel",
          "state": {
            "_view_name": "LayoutView",
            "grid_template_rows": null,
            "right": null,
            "justify_content": null,
            "_view_module": "@jupyter-widgets/base",
            "overflow": null,
            "_model_module_version": "1.2.0",
            "_view_count": null,
            "flex_flow": null,
            "width": null,
            "min_width": null,
            "border": null,
            "align_items": null,
            "bottom": null,
            "_model_module": "@jupyter-widgets/base",
            "top": null,
            "grid_column": null,
            "overflow_y": null,
            "overflow_x": null,
            "grid_auto_flow": null,
            "grid_area": null,
            "grid_template_columns": null,
            "flex": null,
            "_model_name": "LayoutModel",
            "justify_items": null,
            "grid_row": null,
            "max_height": null,
            "align_content": null,
            "visibility": null,
            "align_self": null,
            "height": null,
            "min_height": null,
            "padding": null,
            "grid_auto_rows": null,
            "grid_gap": null,
            "max_width": null,
            "order": null,
            "_view_module_version": "1.2.0",
            "grid_template_areas": null,
            "object_position": null,
            "object_fit": null,
            "grid_auto_columns": null,
            "margin": null,
            "display": null,
            "left": null
          }
        },
        "682ab49354664e4db3ff4facc9648d9e": {
          "model_module": "@jupyter-widgets/controls",
          "model_name": "FloatProgressModel",
          "state": {
            "_view_name": "ProgressView",
            "style": "IPY_MODEL_b61e45ba218f4b6cabe0d29d0476c937",
            "_dom_classes": [],
            "description": "Downloading: 100%",
            "_model_name": "FloatProgressModel",
            "bar_style": "success",
            "max": 433,
            "_view_module": "@jupyter-widgets/controls",
            "_model_module_version": "1.5.0",
            "value": 433,
            "_view_count": null,
            "_view_module_version": "1.5.0",
            "orientation": "horizontal",
            "min": 0,
            "description_tooltip": null,
            "_model_module": "@jupyter-widgets/controls",
            "layout": "IPY_MODEL_ca5380d41c0546798ceee1f6cb2aaad0"
          }
        },
        "3bbb67d396404c0dafc114259ef8e22e": {
          "model_module": "@jupyter-widgets/controls",
          "model_name": "HTMLModel",
          "state": {
            "_view_name": "HTMLView",
            "style": "IPY_MODEL_1e9f2811df3e4832a6f1c9220e102e3b",
            "_dom_classes": [],
            "description": "",
            "_model_name": "HTMLModel",
            "placeholder": "​",
            "_view_module": "@jupyter-widgets/controls",
            "_model_module_version": "1.5.0",
            "value": " 433/433 [00:12&lt;00:00, 33.7B/s]",
            "_view_count": null,
            "_view_module_version": "1.5.0",
            "description_tooltip": null,
            "_model_module": "@jupyter-widgets/controls",
            "layout": "IPY_MODEL_adff124896c0421b99035371751c4d2e"
          }
        },
        "b61e45ba218f4b6cabe0d29d0476c937": {
          "model_module": "@jupyter-widgets/controls",
          "model_name": "ProgressStyleModel",
          "state": {
            "_view_name": "StyleView",
            "_model_name": "ProgressStyleModel",
            "description_width": "initial",
            "_view_module": "@jupyter-widgets/base",
            "_model_module_version": "1.5.0",
            "_view_count": null,
            "_view_module_version": "1.2.0",
            "bar_color": null,
            "_model_module": "@jupyter-widgets/controls"
          }
        },
        "ca5380d41c0546798ceee1f6cb2aaad0": {
          "model_module": "@jupyter-widgets/base",
          "model_name": "LayoutModel",
          "state": {
            "_view_name": "LayoutView",
            "grid_template_rows": null,
            "right": null,
            "justify_content": null,
            "_view_module": "@jupyter-widgets/base",
            "overflow": null,
            "_model_module_version": "1.2.0",
            "_view_count": null,
            "flex_flow": null,
            "width": null,
            "min_width": null,
            "border": null,
            "align_items": null,
            "bottom": null,
            "_model_module": "@jupyter-widgets/base",
            "top": null,
            "grid_column": null,
            "overflow_y": null,
            "overflow_x": null,
            "grid_auto_flow": null,
            "grid_area": null,
            "grid_template_columns": null,
            "flex": null,
            "_model_name": "LayoutModel",
            "justify_items": null,
            "grid_row": null,
            "max_height": null,
            "align_content": null,
            "visibility": null,
            "align_self": null,
            "height": null,
            "min_height": null,
            "padding": null,
            "grid_auto_rows": null,
            "grid_gap": null,
            "max_width": null,
            "order": null,
            "_view_module_version": "1.2.0",
            "grid_template_areas": null,
            "object_position": null,
            "object_fit": null,
            "grid_auto_columns": null,
            "margin": null,
            "display": null,
            "left": null
          }
        },
        "1e9f2811df3e4832a6f1c9220e102e3b": {
          "model_module": "@jupyter-widgets/controls",
          "model_name": "DescriptionStyleModel",
          "state": {
            "_view_name": "StyleView",
            "_model_name": "DescriptionStyleModel",
            "description_width": "",
            "_view_module": "@jupyter-widgets/base",
            "_model_module_version": "1.5.0",
            "_view_count": null,
            "_view_module_version": "1.2.0",
            "_model_module": "@jupyter-widgets/controls"
          }
        },
        "adff124896c0421b99035371751c4d2e": {
          "model_module": "@jupyter-widgets/base",
          "model_name": "LayoutModel",
          "state": {
            "_view_name": "LayoutView",
            "grid_template_rows": null,
            "right": null,
            "justify_content": null,
            "_view_module": "@jupyter-widgets/base",
            "overflow": null,
            "_model_module_version": "1.2.0",
            "_view_count": null,
            "flex_flow": null,
            "width": null,
            "min_width": null,
            "border": null,
            "align_items": null,
            "bottom": null,
            "_model_module": "@jupyter-widgets/base",
            "top": null,
            "grid_column": null,
            "overflow_y": null,
            "overflow_x": null,
            "grid_auto_flow": null,
            "grid_area": null,
            "grid_template_columns": null,
            "flex": null,
            "_model_name": "LayoutModel",
            "justify_items": null,
            "grid_row": null,
            "max_height": null,
            "align_content": null,
            "visibility": null,
            "align_self": null,
            "height": null,
            "min_height": null,
            "padding": null,
            "grid_auto_rows": null,
            "grid_gap": null,
            "max_width": null,
            "order": null,
            "_view_module_version": "1.2.0",
            "grid_template_areas": null,
            "object_position": null,
            "object_fit": null,
            "grid_auto_columns": null,
            "margin": null,
            "display": null,
            "left": null
          }
        },
        "613ee6cc3bab4c6caf89cd4bbc807c70": {
          "model_module": "@jupyter-widgets/controls",
          "model_name": "HBoxModel",
          "state": {
            "_view_name": "HBoxView",
            "_dom_classes": [],
            "_model_name": "HBoxModel",
            "_view_module": "@jupyter-widgets/controls",
            "_model_module_version": "1.5.0",
            "_view_count": null,
            "_view_module_version": "1.5.0",
            "box_style": "",
            "layout": "IPY_MODEL_05932f0712eb4028a166e6892cd108c2",
            "_model_module": "@jupyter-widgets/controls",
            "children": [
              "IPY_MODEL_ef787f1d9bb3477a83f1fc276d52f4f0",
              "IPY_MODEL_269bfeed463f4a068fa2b4491033e141"
            ]
          }
        },
        "05932f0712eb4028a166e6892cd108c2": {
          "model_module": "@jupyter-widgets/base",
          "model_name": "LayoutModel",
          "state": {
            "_view_name": "LayoutView",
            "grid_template_rows": null,
            "right": null,
            "justify_content": null,
            "_view_module": "@jupyter-widgets/base",
            "overflow": null,
            "_model_module_version": "1.2.0",
            "_view_count": null,
            "flex_flow": null,
            "width": null,
            "min_width": null,
            "border": null,
            "align_items": null,
            "bottom": null,
            "_model_module": "@jupyter-widgets/base",
            "top": null,
            "grid_column": null,
            "overflow_y": null,
            "overflow_x": null,
            "grid_auto_flow": null,
            "grid_area": null,
            "grid_template_columns": null,
            "flex": null,
            "_model_name": "LayoutModel",
            "justify_items": null,
            "grid_row": null,
            "max_height": null,
            "align_content": null,
            "visibility": null,
            "align_self": null,
            "height": null,
            "min_height": null,
            "padding": null,
            "grid_auto_rows": null,
            "grid_gap": null,
            "max_width": null,
            "order": null,
            "_view_module_version": "1.2.0",
            "grid_template_areas": null,
            "object_position": null,
            "object_fit": null,
            "grid_auto_columns": null,
            "margin": null,
            "display": null,
            "left": null
          }
        },
        "ef787f1d9bb3477a83f1fc276d52f4f0": {
          "model_module": "@jupyter-widgets/controls",
          "model_name": "FloatProgressModel",
          "state": {
            "_view_name": "ProgressView",
            "style": "IPY_MODEL_a8d2a385379844278b7f1167438c74ea",
            "_dom_classes": [],
            "description": "Downloading: 100%",
            "_model_name": "FloatProgressModel",
            "bar_style": "success",
            "max": 435779157,
            "_view_module": "@jupyter-widgets/controls",
            "_model_module_version": "1.5.0",
            "value": 435779157,
            "_view_count": null,
            "_view_module_version": "1.5.0",
            "orientation": "horizontal",
            "min": 0,
            "description_tooltip": null,
            "_model_module": "@jupyter-widgets/controls",
            "layout": "IPY_MODEL_27b511f2e15c453990f938ca19f0ad8c"
          }
        },
        "269bfeed463f4a068fa2b4491033e141": {
          "model_module": "@jupyter-widgets/controls",
          "model_name": "HTMLModel",
          "state": {
            "_view_name": "HTMLView",
            "style": "IPY_MODEL_266bb4ec77db417d897ee42c2953829a",
            "_dom_classes": [],
            "description": "",
            "_model_name": "HTMLModel",
            "placeholder": "​",
            "_view_module": "@jupyter-widgets/controls",
            "_model_module_version": "1.5.0",
            "value": " 436M/436M [00:09&lt;00:00, 45.2MB/s]",
            "_view_count": null,
            "_view_module_version": "1.5.0",
            "description_tooltip": null,
            "_model_module": "@jupyter-widgets/controls",
            "layout": "IPY_MODEL_712bc2e109914eefb5894b047b11c93b"
          }
        },
        "a8d2a385379844278b7f1167438c74ea": {
          "model_module": "@jupyter-widgets/controls",
          "model_name": "ProgressStyleModel",
          "state": {
            "_view_name": "StyleView",
            "_model_name": "ProgressStyleModel",
            "description_width": "initial",
            "_view_module": "@jupyter-widgets/base",
            "_model_module_version": "1.5.0",
            "_view_count": null,
            "_view_module_version": "1.2.0",
            "bar_color": null,
            "_model_module": "@jupyter-widgets/controls"
          }
        },
        "27b511f2e15c453990f938ca19f0ad8c": {
          "model_module": "@jupyter-widgets/base",
          "model_name": "LayoutModel",
          "state": {
            "_view_name": "LayoutView",
            "grid_template_rows": null,
            "right": null,
            "justify_content": null,
            "_view_module": "@jupyter-widgets/base",
            "overflow": null,
            "_model_module_version": "1.2.0",
            "_view_count": null,
            "flex_flow": null,
            "width": null,
            "min_width": null,
            "border": null,
            "align_items": null,
            "bottom": null,
            "_model_module": "@jupyter-widgets/base",
            "top": null,
            "grid_column": null,
            "overflow_y": null,
            "overflow_x": null,
            "grid_auto_flow": null,
            "grid_area": null,
            "grid_template_columns": null,
            "flex": null,
            "_model_name": "LayoutModel",
            "justify_items": null,
            "grid_row": null,
            "max_height": null,
            "align_content": null,
            "visibility": null,
            "align_self": null,
            "height": null,
            "min_height": null,
            "padding": null,
            "grid_auto_rows": null,
            "grid_gap": null,
            "max_width": null,
            "order": null,
            "_view_module_version": "1.2.0",
            "grid_template_areas": null,
            "object_position": null,
            "object_fit": null,
            "grid_auto_columns": null,
            "margin": null,
            "display": null,
            "left": null
          }
        },
        "266bb4ec77db417d897ee42c2953829a": {
          "model_module": "@jupyter-widgets/controls",
          "model_name": "DescriptionStyleModel",
          "state": {
            "_view_name": "StyleView",
            "_model_name": "DescriptionStyleModel",
            "description_width": "",
            "_view_module": "@jupyter-widgets/base",
            "_model_module_version": "1.5.0",
            "_view_count": null,
            "_view_module_version": "1.2.0",
            "_model_module": "@jupyter-widgets/controls"
          }
        },
        "712bc2e109914eefb5894b047b11c93b": {
          "model_module": "@jupyter-widgets/base",
          "model_name": "LayoutModel",
          "state": {
            "_view_name": "LayoutView",
            "grid_template_rows": null,
            "right": null,
            "justify_content": null,
            "_view_module": "@jupyter-widgets/base",
            "overflow": null,
            "_model_module_version": "1.2.0",
            "_view_count": null,
            "flex_flow": null,
            "width": null,
            "min_width": null,
            "border": null,
            "align_items": null,
            "bottom": null,
            "_model_module": "@jupyter-widgets/base",
            "top": null,
            "grid_column": null,
            "overflow_y": null,
            "overflow_x": null,
            "grid_auto_flow": null,
            "grid_area": null,
            "grid_template_columns": null,
            "flex": null,
            "_model_name": "LayoutModel",
            "justify_items": null,
            "grid_row": null,
            "max_height": null,
            "align_content": null,
            "visibility": null,
            "align_self": null,
            "height": null,
            "min_height": null,
            "padding": null,
            "grid_auto_rows": null,
            "grid_gap": null,
            "max_width": null,
            "order": null,
            "_view_module_version": "1.2.0",
            "grid_template_areas": null,
            "object_position": null,
            "object_fit": null,
            "grid_auto_columns": null,
            "margin": null,
            "display": null,
            "left": null
          }
        }
      }
    }
  },
  "cells": [
    {
      "cell_type": "markdown",
      "metadata": {
        "id": "view-in-github",
        "colab_type": "text"
      },
      "source": [
        "<a href=\"https://colab.research.google.com/github/zhanmdd/glassdoor-reviews-sentiment-BERT/blob/master/Glassdoor_Reviews_Preprocessing_and_Sentiment_Analysis_.ipynb\" target=\"_parent\"><img src=\"https://colab.research.google.com/assets/colab-badge.svg\" alt=\"Open In Colab\"/></a>"
      ]
    },
    {
      "cell_type": "markdown",
      "metadata": {
        "id": "qsx0lrBr7X_c",
        "colab_type": "text"
      },
      "source": [
        "##Setup and Loading The Dataset"
      ]
    },
    {
      "cell_type": "code",
      "metadata": {
        "id": "kFlzi8Iz579c",
        "colab_type": "code",
        "colab": {
          "base_uri": "https://localhost:8080/",
          "height": 615
        },
        "outputId": "97c90069-eb0d-4ad3-e551-d04da5f453d9"
      },
      "source": [
        "!pip install transformers"
      ],
      "execution_count": null,
      "outputs": [
        {
          "output_type": "stream",
          "text": [
            "Collecting transformers\n",
            "\u001b[?25l  Downloading https://files.pythonhosted.org/packages/27/3c/91ed8f5c4e7ef3227b4119200fc0ed4b4fd965b1f0172021c25701087825/transformers-3.0.2-py3-none-any.whl (769kB)\n",
            "\r\u001b[K     |▍                               | 10kB 20.1MB/s eta 0:00:01\r\u001b[K     |▉                               | 20kB 1.6MB/s eta 0:00:01\r\u001b[K     |█▎                              | 30kB 2.0MB/s eta 0:00:01\r\u001b[K     |█▊                              | 40kB 2.3MB/s eta 0:00:01\r\u001b[K     |██▏                             | 51kB 1.9MB/s eta 0:00:01\r\u001b[K     |██▋                             | 61kB 2.1MB/s eta 0:00:01\r\u001b[K     |███                             | 71kB 2.3MB/s eta 0:00:01\r\u001b[K     |███▍                            | 81kB 2.5MB/s eta 0:00:01\r\u001b[K     |███▉                            | 92kB 2.7MB/s eta 0:00:01\r\u001b[K     |████▎                           | 102kB 2.6MB/s eta 0:00:01\r\u001b[K     |████▊                           | 112kB 2.6MB/s eta 0:00:01\r\u001b[K     |█████▏                          | 122kB 2.6MB/s eta 0:00:01\r\u001b[K     |█████▌                          | 133kB 2.6MB/s eta 0:00:01\r\u001b[K     |██████                          | 143kB 2.6MB/s eta 0:00:01\r\u001b[K     |██████▍                         | 153kB 2.6MB/s eta 0:00:01\r\u001b[K     |██████▉                         | 163kB 2.6MB/s eta 0:00:01\r\u001b[K     |███████▎                        | 174kB 2.6MB/s eta 0:00:01\r\u001b[K     |███████▊                        | 184kB 2.6MB/s eta 0:00:01\r\u001b[K     |████████                        | 194kB 2.6MB/s eta 0:00:01\r\u001b[K     |████████▌                       | 204kB 2.6MB/s eta 0:00:01\r\u001b[K     |█████████                       | 215kB 2.6MB/s eta 0:00:01\r\u001b[K     |█████████▍                      | 225kB 2.6MB/s eta 0:00:01\r\u001b[K     |█████████▉                      | 235kB 2.6MB/s eta 0:00:01\r\u001b[K     |██████████▎                     | 245kB 2.6MB/s eta 0:00:01\r\u001b[K     |██████████▋                     | 256kB 2.6MB/s eta 0:00:01\r\u001b[K     |███████████                     | 266kB 2.6MB/s eta 0:00:01\r\u001b[K     |███████████▌                    | 276kB 2.6MB/s eta 0:00:01\r\u001b[K     |████████████                    | 286kB 2.6MB/s eta 0:00:01\r\u001b[K     |████████████▍                   | 296kB 2.6MB/s eta 0:00:01\r\u001b[K     |████████████▉                   | 307kB 2.6MB/s eta 0:00:01\r\u001b[K     |█████████████▏                  | 317kB 2.6MB/s eta 0:00:01\r\u001b[K     |█████████████▋                  | 327kB 2.6MB/s eta 0:00:01\r\u001b[K     |██████████████                  | 337kB 2.6MB/s eta 0:00:01\r\u001b[K     |██████████████▌                 | 348kB 2.6MB/s eta 0:00:01\r\u001b[K     |███████████████                 | 358kB 2.6MB/s eta 0:00:01\r\u001b[K     |███████████████▍                | 368kB 2.6MB/s eta 0:00:01\r\u001b[K     |███████████████▊                | 378kB 2.6MB/s eta 0:00:01\r\u001b[K     |████████████████▏               | 389kB 2.6MB/s eta 0:00:01\r\u001b[K     |████████████████▋               | 399kB 2.6MB/s eta 0:00:01\r\u001b[K     |█████████████████               | 409kB 2.6MB/s eta 0:00:01\r\u001b[K     |█████████████████▌              | 419kB 2.6MB/s eta 0:00:01\r\u001b[K     |██████████████████              | 430kB 2.6MB/s eta 0:00:01\r\u001b[K     |██████████████████▎             | 440kB 2.6MB/s eta 0:00:01\r\u001b[K     |██████████████████▊             | 450kB 2.6MB/s eta 0:00:01\r\u001b[K     |███████████████████▏            | 460kB 2.6MB/s eta 0:00:01\r\u001b[K     |███████████████████▋            | 471kB 2.6MB/s eta 0:00:01\r\u001b[K     |████████████████████            | 481kB 2.6MB/s eta 0:00:01\r\u001b[K     |████████████████████▌           | 491kB 2.6MB/s eta 0:00:01\r\u001b[K     |████████████████████▉           | 501kB 2.6MB/s eta 0:00:01\r\u001b[K     |█████████████████████▎          | 512kB 2.6MB/s eta 0:00:01\r\u001b[K     |█████████████████████▊          | 522kB 2.6MB/s eta 0:00:01\r\u001b[K     |██████████████████████▏         | 532kB 2.6MB/s eta 0:00:01\r\u001b[K     |██████████████████████▋         | 542kB 2.6MB/s eta 0:00:01\r\u001b[K     |███████████████████████         | 552kB 2.6MB/s eta 0:00:01\r\u001b[K     |███████████████████████▍        | 563kB 2.6MB/s eta 0:00:01\r\u001b[K     |███████████████████████▉        | 573kB 2.6MB/s eta 0:00:01\r\u001b[K     |████████████████████████▎       | 583kB 2.6MB/s eta 0:00:01\r\u001b[K     |████████████████████████▊       | 593kB 2.6MB/s eta 0:00:01\r\u001b[K     |█████████████████████████▏      | 604kB 2.6MB/s eta 0:00:01\r\u001b[K     |█████████████████████████▋      | 614kB 2.6MB/s eta 0:00:01\r\u001b[K     |██████████████████████████      | 624kB 2.6MB/s eta 0:00:01\r\u001b[K     |██████████████████████████▍     | 634kB 2.6MB/s eta 0:00:01\r\u001b[K     |██████████████████████████▉     | 645kB 2.6MB/s eta 0:00:01\r\u001b[K     |███████████████████████████▎    | 655kB 2.6MB/s eta 0:00:01\r\u001b[K     |███████████████████████████▊    | 665kB 2.6MB/s eta 0:00:01\r\u001b[K     |████████████████████████████▏   | 675kB 2.6MB/s eta 0:00:01\r\u001b[K     |████████████████████████████▌   | 686kB 2.6MB/s eta 0:00:01\r\u001b[K     |█████████████████████████████   | 696kB 2.6MB/s eta 0:00:01\r\u001b[K     |█████████████████████████████▍  | 706kB 2.6MB/s eta 0:00:01\r\u001b[K     |█████████████████████████████▉  | 716kB 2.6MB/s eta 0:00:01\r\u001b[K     |██████████████████████████████▎ | 727kB 2.6MB/s eta 0:00:01\r\u001b[K     |██████████████████████████████▊ | 737kB 2.6MB/s eta 0:00:01\r\u001b[K     |███████████████████████████████ | 747kB 2.6MB/s eta 0:00:01\r\u001b[K     |███████████████████████████████▌| 757kB 2.6MB/s eta 0:00:01\r\u001b[K     |████████████████████████████████| 768kB 2.6MB/s eta 0:00:01\r\u001b[K     |████████████████████████████████| 778kB 2.6MB/s \n",
            "\u001b[?25hRequirement already satisfied: regex!=2019.12.17 in /usr/local/lib/python3.6/dist-packages (from transformers) (2019.12.20)\n",
            "Collecting sentencepiece!=0.1.92\n",
            "\u001b[?25l  Downloading https://files.pythonhosted.org/packages/d4/a4/d0a884c4300004a78cca907a6ff9a5e9fe4f090f5d95ab341c53d28cbc58/sentencepiece-0.1.91-cp36-cp36m-manylinux1_x86_64.whl (1.1MB)\n",
            "\u001b[K     |████████████████████████████████| 1.1MB 12.9MB/s \n",
            "\u001b[?25hRequirement already satisfied: filelock in /usr/local/lib/python3.6/dist-packages (from transformers) (3.0.12)\n",
            "Requirement already satisfied: packaging in /usr/local/lib/python3.6/dist-packages (from transformers) (20.4)\n",
            "Collecting tokenizers==0.8.1.rc1\n",
            "\u001b[?25l  Downloading https://files.pythonhosted.org/packages/40/d0/30d5f8d221a0ed981a186c8eb986ce1c94e3a6e87f994eae9f4aa5250217/tokenizers-0.8.1rc1-cp36-cp36m-manylinux1_x86_64.whl (3.0MB)\n",
            "\u001b[K     |████████████████████████████████| 3.0MB 19.1MB/s \n",
            "\u001b[?25hCollecting sacremoses\n",
            "\u001b[?25l  Downloading https://files.pythonhosted.org/packages/7d/34/09d19aff26edcc8eb2a01bed8e98f13a1537005d31e95233fd48216eed10/sacremoses-0.0.43.tar.gz (883kB)\n",
            "\u001b[K     |████████████████████████████████| 890kB 16.4MB/s \n",
            "\u001b[?25hRequirement already satisfied: numpy in /usr/local/lib/python3.6/dist-packages (from transformers) (1.18.5)\n",
            "Requirement already satisfied: requests in /usr/local/lib/python3.6/dist-packages (from transformers) (2.23.0)\n",
            "Requirement already satisfied: tqdm>=4.27 in /usr/local/lib/python3.6/dist-packages (from transformers) (4.41.1)\n",
            "Requirement already satisfied: dataclasses; python_version < \"3.7\" in /usr/local/lib/python3.6/dist-packages (from transformers) (0.7)\n",
            "Requirement already satisfied: six in /usr/local/lib/python3.6/dist-packages (from packaging->transformers) (1.15.0)\n",
            "Requirement already satisfied: pyparsing>=2.0.2 in /usr/local/lib/python3.6/dist-packages (from packaging->transformers) (2.4.7)\n",
            "Requirement already satisfied: click in /usr/local/lib/python3.6/dist-packages (from sacremoses->transformers) (7.1.2)\n",
            "Requirement already satisfied: joblib in /usr/local/lib/python3.6/dist-packages (from sacremoses->transformers) (0.16.0)\n",
            "Requirement already satisfied: certifi>=2017.4.17 in /usr/local/lib/python3.6/dist-packages (from requests->transformers) (2020.6.20)\n",
            "Requirement already satisfied: idna<3,>=2.5 in /usr/local/lib/python3.6/dist-packages (from requests->transformers) (2.10)\n",
            "Requirement already satisfied: chardet<4,>=3.0.2 in /usr/local/lib/python3.6/dist-packages (from requests->transformers) (3.0.4)\n",
            "Requirement already satisfied: urllib3!=1.25.0,!=1.25.1,<1.26,>=1.21.1 in /usr/local/lib/python3.6/dist-packages (from requests->transformers) (1.24.3)\n",
            "Building wheels for collected packages: sacremoses\n",
            "  Building wheel for sacremoses (setup.py) ... \u001b[?25l\u001b[?25hdone\n",
            "  Created wheel for sacremoses: filename=sacremoses-0.0.43-cp36-none-any.whl size=893260 sha256=08c11c2df2266da405c419369637bcccadd3e5910f755c058b9671c0fd614aae\n",
            "  Stored in directory: /root/.cache/pip/wheels/29/3c/fd/7ce5c3f0666dab31a50123635e6fb5e19ceb42ce38d4e58f45\n",
            "Successfully built sacremoses\n",
            "Installing collected packages: sentencepiece, tokenizers, sacremoses, transformers\n",
            "Successfully installed sacremoses-0.0.43 sentencepiece-0.1.91 tokenizers-0.8.1rc1 transformers-3.0.2\n"
          ],
          "name": "stdout"
        }
      ]
    },
    {
      "cell_type": "code",
      "metadata": {
        "id": "vb1G6SIYwK76",
        "colab_type": "code",
        "colab": {
          "base_uri": "https://localhost:8080/",
          "height": 88
        },
        "outputId": "926ee64b-08c4-40f9-98d1-fd77f8bbb07d"
      },
      "source": [
        "import transformers\n",
        "from transformers import BertTokenizer\n",
        "import torch\n",
        "import numpy as np\n",
        "import pandas as pd\n",
        "import seaborn as sns\n",
        "import matplotlib.pyplot as plt\n",
        "from matplotlib import rc\n",
        "from sklearn.model_selection import train_test_split\n",
        "from sklearn.metrics import confusion_matrix, classification_report\n",
        "from collections import defaultdict\n",
        "from textwrap import wrap\n",
        "from torch import nn, optim\n",
        "import torch.nn.functional as F\n",
        "\n",
        "from google.colab import files\n",
        "import io\n",
        "\n",
        "device = torch.device(\"cuda:0\" if torch.cuda.is_available() else \"Couldn't find GPU device\")\n",
        "device"
      ],
      "execution_count": null,
      "outputs": [
        {
          "output_type": "stream",
          "text": [
            "/usr/local/lib/python3.6/dist-packages/statsmodels/tools/_testing.py:19: FutureWarning: pandas.util.testing is deprecated. Use the functions in the public API at pandas.testing instead.\n",
            "  import pandas.util.testing as tm\n"
          ],
          "name": "stderr"
        },
        {
          "output_type": "execute_result",
          "data": {
            "text/plain": [
              "device(type='cuda', index=0)"
            ]
          },
          "metadata": {
            "tags": []
          },
          "execution_count": 2
        }
      ]
    },
    {
      "cell_type": "code",
      "metadata": {
        "id": "fxhtc0AMwgYV",
        "colab_type": "code",
        "colab": {
          "resources": {
            "http://localhost:8080/nbextensions/google.colab/files.js": {
              "data": "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",
              "ok": true,
              "headers": [
                [
                  "content-type",
                  "application/javascript"
                ]
              ],
              "status": 200,
              "status_text": ""
            }
          },
          "base_uri": "https://localhost:8080/",
          "height": 259
        },
        "outputId": "c237a91c-b7b0-4932-fa23-d2878b5ae4fa"
      },
      "source": [
        "uploaded = files.upload()\n",
        "df = pd.read_csv(io.BytesIO(uploaded['df_cleaned.csv']))\n",
        "df.head()"
      ],
      "execution_count": null,
      "outputs": [
        {
          "output_type": "display_data",
          "data": {
            "text/html": [
              "\n",
              "     <input type=\"file\" id=\"files-c60773ac-407d-4566-9637-186288751a51\" name=\"files[]\" multiple disabled\n",
              "        style=\"border:none\" />\n",
              "     <output id=\"result-c60773ac-407d-4566-9637-186288751a51\">\n",
              "      Upload widget is only available when the cell has been executed in the\n",
              "      current browser session. Please rerun this cell to enable.\n",
              "      </output>\n",
              "      <script src=\"/nbextensions/google.colab/files.js\"></script> "
            ],
            "text/plain": [
              "<IPython.core.display.HTML object>"
            ]
          },
          "metadata": {
            "tags": []
          }
        },
        {
          "output_type": "stream",
          "text": [
            "Saving df_cleaned.csv to df_cleaned.csv\n"
          ],
          "name": "stdout"
        },
        {
          "output_type": "execute_result",
          "data": {
            "text/html": [
              "<div>\n",
              "<style scoped>\n",
              "    .dataframe tbody tr th:only-of-type {\n",
              "        vertical-align: middle;\n",
              "    }\n",
              "\n",
              "    .dataframe tbody tr th {\n",
              "        vertical-align: top;\n",
              "    }\n",
              "\n",
              "    .dataframe thead th {\n",
              "        text-align: right;\n",
              "    }\n",
              "</style>\n",
              "<table border=\"1\" class=\"dataframe\">\n",
              "  <thead>\n",
              "    <tr style=\"text-align: right;\">\n",
              "      <th></th>\n",
              "      <th>company_name</th>\n",
              "      <th>employee_title</th>\n",
              "      <th>employee_status</th>\n",
              "      <th>state</th>\n",
              "      <th>city</th>\n",
              "      <th>date</th>\n",
              "      <th>rating</th>\n",
              "      <th>sentiment</th>\n",
              "      <th>review</th>\n",
              "    </tr>\n",
              "  </thead>\n",
              "  <tbody>\n",
              "    <tr>\n",
              "      <th>0</th>\n",
              "      <td>CoStar-Group</td>\n",
              "      <td>Market Research Analyst II</td>\n",
              "      <td>Current Employee</td>\n",
              "      <td>VA</td>\n",
              "      <td>Richmond</td>\n",
              "      <td>2020-01-22 08:38:01</td>\n",
              "      <td>5.0</td>\n",
              "      <td>2</td>\n",
              "      <td>Best company I had ever worked for in 3 decade...</td>\n",
              "    </tr>\n",
              "    <tr>\n",
              "      <th>1</th>\n",
              "      <td>CoStar-Group</td>\n",
              "      <td>Inside Sales Representative</td>\n",
              "      <td>Current Employee</td>\n",
              "      <td>NaN</td>\n",
              "      <td>NaN</td>\n",
              "      <td>2020-07-16 10:23:06</td>\n",
              "      <td>5.0</td>\n",
              "      <td>2</td>\n",
              "      <td>Great Place to Make Money. I have been working...</td>\n",
              "    </tr>\n",
              "    <tr>\n",
              "      <th>2</th>\n",
              "      <td>CoStar-Group</td>\n",
              "      <td>Inside Sales Representative</td>\n",
              "      <td>Current Employee</td>\n",
              "      <td>DC</td>\n",
              "      <td>Washington</td>\n",
              "      <td>2020-07-16 10:49:00</td>\n",
              "      <td>5.0</td>\n",
              "      <td>2</td>\n",
              "      <td>Great place to start a career and make money. ...</td>\n",
              "    </tr>\n",
              "    <tr>\n",
              "      <th>3</th>\n",
              "      <td>CoStar-Group</td>\n",
              "      <td>Senior Account Manager</td>\n",
              "      <td>Former Employee</td>\n",
              "      <td>DC</td>\n",
              "      <td>Washington</td>\n",
              "      <td>2020-07-15 11:13:00</td>\n",
              "      <td>4.0</td>\n",
              "      <td>2</td>\n",
              "      <td>Great Company. I worked at CoStar Group full-t...</td>\n",
              "    </tr>\n",
              "    <tr>\n",
              "      <th>4</th>\n",
              "      <td>CoStar-Group</td>\n",
              "      <td>Tenant Research Associate</td>\n",
              "      <td>Current Employee</td>\n",
              "      <td>VA</td>\n",
              "      <td>Richmond</td>\n",
              "      <td>2020-07-21 17:49:46</td>\n",
              "      <td>2.0</td>\n",
              "      <td>0</td>\n",
              "      <td>DO NOT GET SUCKED FOR THE MONEY!!!I have been ...</td>\n",
              "    </tr>\n",
              "  </tbody>\n",
              "</table>\n",
              "</div>"
            ],
            "text/plain": [
              "   company_name  ...                                             review\n",
              "0  CoStar-Group  ...  Best company I had ever worked for in 3 decade...\n",
              "1  CoStar-Group  ...  Great Place to Make Money. I have been working...\n",
              "2  CoStar-Group  ...  Great place to start a career and make money. ...\n",
              "3  CoStar-Group  ...  Great Company. I worked at CoStar Group full-t...\n",
              "4  CoStar-Group  ...  DO NOT GET SUCKED FOR THE MONEY!!!I have been ...\n",
              "\n",
              "[5 rows x 9 columns]"
            ]
          },
          "metadata": {
            "tags": []
          },
          "execution_count": 3
        }
      ]
    },
    {
      "cell_type": "code",
      "metadata": {
        "id": "cu7GILduw5IA",
        "colab_type": "code",
        "colab": {
          "base_uri": "https://localhost:8080/",
          "height": 34
        },
        "outputId": "b4182c59-5b16-4710-f70f-abf678c7e752"
      },
      "source": [
        "df.shape"
      ],
      "execution_count": null,
      "outputs": [
        {
          "output_type": "execute_result",
          "data": {
            "text/plain": [
              "(10124, 9)"
            ]
          },
          "metadata": {
            "tags": []
          },
          "execution_count": 4
        }
      ]
    },
    {
      "cell_type": "code",
      "metadata": {
        "id": "nUT4rdqiw7AB",
        "colab_type": "code",
        "colab": {
          "base_uri": "https://localhost:8080/",
          "height": 289
        },
        "outputId": "d7b45ef1-ef5e-4c2f-cef8-f30289b4fe45"
      },
      "source": [
        "df.info()"
      ],
      "execution_count": null,
      "outputs": [
        {
          "output_type": "stream",
          "text": [
            "<class 'pandas.core.frame.DataFrame'>\n",
            "RangeIndex: 10124 entries, 0 to 10123\n",
            "Data columns (total 9 columns):\n",
            " #   Column           Non-Null Count  Dtype  \n",
            "---  ------           --------------  -----  \n",
            " 0   company_name     10124 non-null  object \n",
            " 1   employee_title   5926 non-null   object \n",
            " 2   employee_status  10124 non-null  object \n",
            " 3   state            6103 non-null   object \n",
            " 4   city             6103 non-null   object \n",
            " 5   date             10124 non-null  object \n",
            " 6   rating           10124 non-null  float64\n",
            " 7   sentiment        10124 non-null  int64  \n",
            " 8   review           10124 non-null  object \n",
            "dtypes: float64(1), int64(1), object(7)\n",
            "memory usage: 712.0+ KB\n"
          ],
          "name": "stdout"
        }
      ]
    },
    {
      "cell_type": "markdown",
      "metadata": {
        "id": "UwKRfJRH71yc",
        "colab_type": "text"
      },
      "source": [
        "##Pre-Processing"
      ]
    },
    {
      "cell_type": "markdown",
      "metadata": {
        "id": "5zcn1BnR52OF",
        "colab_type": "text"
      },
      "source": [
        "Steps:\n",
        "1. Tokenize\n",
        "2. Format specifically for BERT model\n",
        "\n",
        "BERT Model Requierements:\n",
        "1. **Add special tokens** to specify separations and specify the task of classification (example of the special tokens: 'SEP', 'CLS', 'PAD', 'UNK')\n",
        "2. **Truncate and pad sentences** to a one common length\n",
        "3. **Create an attention mask** to specify a pad token (0-not referring to any word) and an actual token (1-referring to a word)"
      ]
    },
    {
      "cell_type": "markdown",
      "metadata": {
        "id": "BtDJCVmz_sna",
        "colab_type": "text"
      },
      "source": [
        "###Picking ``` MAX_LEN ``` (sequence length)\n",
        "\n",
        "The higher ``` MAX_LEN ```, the more accurate our model in a specific case. However, a too high value slows down total trainig time and makes the model fail to generalize (overfitting).\n",
        "\n",
        "What we going to do is:\n",
        "\n",
        "1. Figure out initial optimal\n",
        "2. Experiment and pick most optimal\n",
        "\n",
        "\n",
        "\n"
      ]
    },
    {
      "cell_type": "markdown",
      "metadata": {
        "id": "QXkJWvgYBdQK",
        "colab_type": "text"
      },
      "source": [
        "**Loading the model and the tokenizer**\n",
        "<p>We'll be using Bert Base Cased model, which has 12 encoders and takes casing into account.<p>Why \"cased\" when usually it's \"uncased\"? Because in our case of analyzing reviews, for example, \"I LOVE IT\" expresses a stronger sentiment than \"I love it\""
      ]
    },
    {
      "cell_type": "code",
      "metadata": {
        "id": "ZFQK96qAEMe9",
        "colab_type": "code",
        "colab": {
          "base_uri": "https://localhost:8080/",
          "height": 66,
          "referenced_widgets": [
            "f249eb5cbc4a4f0ba50050f87cbf443f",
            "a04ac97115e141069b22301065469c2f",
            "8df14dd5cce94ae097b8e26fb8e499de",
            "13ed010732d34e859a295ab576e3cf0c",
            "6676e59218434771b57a3f087be74fbf",
            "79b9a6d767c54f3b8a1e3ceb3d6658c0",
            "2ac52e2ed53447ecafdac66a917070df",
            "cd27dc2f6bbe4dbf97aae702fac91777"
          ]
        },
        "outputId": "04f5290b-c856-4220-cc20-11bb92559e37"
      },
      "source": [
        "bert_cased = 'bert-base-cased'\n",
        "tokenizer = BertTokenizer.from_pretrained(bert_cased)"
      ],
      "execution_count": null,
      "outputs": [
        {
          "output_type": "display_data",
          "data": {
            "application/vnd.jupyter.widget-view+json": {
              "model_id": "f249eb5cbc4a4f0ba50050f87cbf443f",
              "version_minor": 0,
              "version_major": 2
            },
            "text/plain": [
              "HBox(children=(FloatProgress(value=0.0, description='Downloading', max=213450.0, style=ProgressStyle(descripti…"
            ]
          },
          "metadata": {
            "tags": []
          }
        },
        {
          "output_type": "stream",
          "text": [
            "\n"
          ],
          "name": "stdout"
        }
      ]
    },
    {
      "cell_type": "markdown",
      "metadata": {
        "id": "4RIh2yYiEvBq",
        "colab_type": "text"
      },
      "source": [
        " We will pick the initial ``` MAX_LEN ``` by examining the distribution of token lengths and picking the most optimal at a first glance: \"Not too big... Not too small\""
      ]
    },
    {
      "cell_type": "code",
      "metadata": {
        "id": "9f7-bJ3q6OGS",
        "colab_type": "code",
        "colab": {
          "base_uri": "https://localhost:8080/",
          "height": 297
        },
        "outputId": "cdfbaee3-3d07-4394-9ada-ee1dce9c634a"
      },
      "source": [
        "lengths = []\n",
        "\n",
        "for review in df.review:\n",
        "  tokens = tokenizer.encode(review, truncation=True, max_length=512)\n",
        "  lengths.append(len(tokens))\n",
        "\n",
        "lens = pd.DataFrame(lengths)\n",
        "lens.describe()"
      ],
      "execution_count": null,
      "outputs": [
        {
          "output_type": "execute_result",
          "data": {
            "text/html": [
              "<div>\n",
              "<style scoped>\n",
              "    .dataframe tbody tr th:only-of-type {\n",
              "        vertical-align: middle;\n",
              "    }\n",
              "\n",
              "    .dataframe tbody tr th {\n",
              "        vertical-align: top;\n",
              "    }\n",
              "\n",
              "    .dataframe thead th {\n",
              "        text-align: right;\n",
              "    }\n",
              "</style>\n",
              "<table border=\"1\" class=\"dataframe\">\n",
              "  <thead>\n",
              "    <tr style=\"text-align: right;\">\n",
              "      <th></th>\n",
              "      <th>0</th>\n",
              "    </tr>\n",
              "  </thead>\n",
              "  <tbody>\n",
              "    <tr>\n",
              "      <th>count</th>\n",
              "      <td>10124.000000</td>\n",
              "    </tr>\n",
              "    <tr>\n",
              "      <th>mean</th>\n",
              "      <td>114.978467</td>\n",
              "    </tr>\n",
              "    <tr>\n",
              "      <th>std</th>\n",
              "      <td>104.471839</td>\n",
              "    </tr>\n",
              "    <tr>\n",
              "      <th>min</th>\n",
              "      <td>24.000000</td>\n",
              "    </tr>\n",
              "    <tr>\n",
              "      <th>25%</th>\n",
              "      <td>48.000000</td>\n",
              "    </tr>\n",
              "    <tr>\n",
              "      <th>50%</th>\n",
              "      <td>77.000000</td>\n",
              "    </tr>\n",
              "    <tr>\n",
              "      <th>75%</th>\n",
              "      <td>136.000000</td>\n",
              "    </tr>\n",
              "    <tr>\n",
              "      <th>max</th>\n",
              "      <td>512.000000</td>\n",
              "    </tr>\n",
              "  </tbody>\n",
              "</table>\n",
              "</div>"
            ],
            "text/plain": [
              "                  0\n",
              "count  10124.000000\n",
              "mean     114.978467\n",
              "std      104.471839\n",
              "min       24.000000\n",
              "25%       48.000000\n",
              "50%       77.000000\n",
              "75%      136.000000\n",
              "max      512.000000"
            ]
          },
          "metadata": {
            "tags": []
          },
          "execution_count": 7
        }
      ]
    },
    {
      "cell_type": "markdown",
      "metadata": {
        "id": "ptKnSA1VXNMC",
        "colab_type": "text"
      },
      "source": [
        "Average length is around 115 and standard deviation is around 104.5. I'd pick average, but it cause some iformation loss. To be safe, I'll pick **170**."
      ]
    },
    {
      "cell_type": "code",
      "metadata": {
        "id": "r0uq4Idm7mLn",
        "colab_type": "code",
        "colab": {}
      },
      "source": [
        "MAX_LEN = 170"
      ],
      "execution_count": null,
      "outputs": []
    },
    {
      "cell_type": "markdown",
      "metadata": {
        "id": "alPHAkARNtPB",
        "colab_type": "text"
      },
      "source": [
        "###Special Tokens. Padding. Attention Mask."
      ]
    },
    {
      "cell_type": "markdown",
      "metadata": {
        "id": "_gNcTEC8OaUt",
        "colab_type": "text"
      },
      "source": [
        "PyTorch Dataset"
      ]
    },
    {
      "cell_type": "code",
      "metadata": {
        "id": "d4InqQqs8Kbq",
        "colab_type": "code",
        "colab": {}
      },
      "source": [
        "from torch.utils.data import Dataset\n",
        "class create_dataset(Dataset):\n",
        "\n",
        "  def __init__(self, reviews, targets, tokenizer, max_len):\n",
        "    self.reviews = reviews\n",
        "    self.targets = targets\n",
        "    self.tokenizer = tokenizer\n",
        "    self.max_len = max_len\n",
        "  \n",
        "  def __len__(self):\n",
        "    return len(self.reviews)\n",
        "  \n",
        "  def __getitem__(self, item):\n",
        "    review = str(self.reviews[item])\n",
        "    target = self.targets[item]\n",
        "\n",
        "    encoder = self.tokenizer.encode_plus(\n",
        "      review,\n",
        "      truncation = True,\n",
        "      add_special_tokens=True,\n",
        "      max_length=self.max_len,\n",
        "      return_token_type_ids=False,\n",
        "      pad_to_max_length=True,\n",
        "      return_attention_mask=True,\n",
        "      return_tensors='pt',\n",
        "    )\n",
        "\n",
        "    return {\n",
        "      'review_text': review,\n",
        "      'targets': torch.tensor(target, dtype=torch.long),\n",
        "      'input_ids': encoder['input_ids'].flatten(),\n",
        "      'attention_mask': encoder['attention_mask'].flatten()\n",
        "    }"
      ],
      "execution_count": null,
      "outputs": []
    },
    {
      "cell_type": "markdown",
      "metadata": {
        "id": "QXPmYwlEsBL2",
        "colab_type": "text"
      },
      "source": [
        "Splitting data into train, test, validation sets"
      ]
    },
    {
      "cell_type": "code",
      "metadata": {
        "id": "dCAhvaQk88l6",
        "colab_type": "code",
        "colab": {}
      },
      "source": [
        "random_seed = 123\n",
        "df_train, df_test = train_test_split(df, test_size=0.15, random_state = random_seed)\n",
        "df_val, df_test = train_test_split(df_test, test_size=0.5, random_state = random_seed)"
      ],
      "execution_count": null,
      "outputs": []
    },
    {
      "cell_type": "markdown",
      "metadata": {
        "id": "rbMKLnftYPMP",
        "colab_type": "text"
      },
      "source": [
        "Let's create Data Loaders to avoid syntax mistakes and to simplify the process"
      ]
    },
    {
      "cell_type": "code",
      "metadata": {
        "id": "oLoPn92m9g3x",
        "colab_type": "code",
        "colab": {}
      },
      "source": [
        "from torch.utils.data import DataLoader\n",
        "def create_dataloader(df, tokenizer, max_len, batch_size):\n",
        "  ds = create_dataset(\n",
        "    reviews=df.review.to_numpy(),\n",
        "    targets=df.sentiment.to_numpy(),\n",
        "    tokenizer=tokenizer,\n",
        "    max_len=max_len\n",
        "  )\n",
        "\n",
        "  return DataLoader(ds, batch_size=batch_size, num_workers=4)"
      ],
      "execution_count": null,
      "outputs": []
    },
    {
      "cell_type": "markdown",
      "metadata": {
        "id": "xG6bv_3quFf6",
        "colab_type": "text"
      },
      "source": [
        "When tuning the model for a specific task, authors recommends to use a batch size of 16 or 32"
      ]
    },
    {
      "cell_type": "code",
      "metadata": {
        "id": "CylJwweODcac",
        "colab_type": "code",
        "colab": {}
      },
      "source": [
        "BATCH_SIZE = 32\n",
        "\n",
        "dataloader_train = create_dataloader(df_train, tokenizer, MAX_LEN, BATCH_SIZE)\n",
        "dataloader_val = create_dataloader(df_val, tokenizer, MAX_LEN, BATCH_SIZE)\n",
        "dataloader_test = create_dataloader(df_test, tokenizer, MAX_LEN, BATCH_SIZE)"
      ],
      "execution_count": null,
      "outputs": []
    },
    {
      "cell_type": "markdown",
      "metadata": {
        "id": "xE6RRagdU3Tj",
        "colab_type": "text"
      },
      "source": [
        "##Building and Training Model"
      ]
    },
    {
      "cell_type": "markdown",
      "metadata": {
        "id": "knktl5wNYzEd",
        "colab_type": "text"
      },
      "source": [
        "###Create a classifier"
      ]
    },
    {
      "cell_type": "code",
      "metadata": {
        "id": "CS-ARLAbU7Ai",
        "colab_type": "code",
        "colab": {
          "base_uri": "https://localhost:8080/",
          "height": 115,
          "referenced_widgets": [
            "e09c1647b5a746d09b2e397493ee3001",
            "2fc00cedb83d48519c2ab867f850e963",
            "682ab49354664e4db3ff4facc9648d9e",
            "3bbb67d396404c0dafc114259ef8e22e",
            "b61e45ba218f4b6cabe0d29d0476c937",
            "ca5380d41c0546798ceee1f6cb2aaad0",
            "1e9f2811df3e4832a6f1c9220e102e3b",
            "adff124896c0421b99035371751c4d2e",
            "613ee6cc3bab4c6caf89cd4bbc807c70",
            "05932f0712eb4028a166e6892cd108c2",
            "ef787f1d9bb3477a83f1fc276d52f4f0",
            "269bfeed463f4a068fa2b4491033e141",
            "a8d2a385379844278b7f1167438c74ea",
            "27b511f2e15c453990f938ca19f0ad8c",
            "266bb4ec77db417d897ee42c2953829a",
            "712bc2e109914eefb5894b047b11c93b"
          ]
        },
        "outputId": "d58b1726-038d-42ee-8c05-a399d8114fbd"
      },
      "source": [
        "from transformers import BertModel, BertTokenizer, AdamW, get_linear_schedule_with_warmup\n",
        "pretrained_bert = BertModel.from_pretrained(bert_cased)"
      ],
      "execution_count": null,
      "outputs": [
        {
          "output_type": "display_data",
          "data": {
            "application/vnd.jupyter.widget-view+json": {
              "model_id": "e09c1647b5a746d09b2e397493ee3001",
              "version_minor": 0,
              "version_major": 2
            },
            "text/plain": [
              "HBox(children=(FloatProgress(value=0.0, description='Downloading', max=433.0, style=ProgressStyle(description_…"
            ]
          },
          "metadata": {
            "tags": []
          }
        },
        {
          "output_type": "stream",
          "text": [
            "\n"
          ],
          "name": "stdout"
        },
        {
          "output_type": "display_data",
          "data": {
            "application/vnd.jupyter.widget-view+json": {
              "model_id": "613ee6cc3bab4c6caf89cd4bbc807c70",
              "version_minor": 0,
              "version_major": 2
            },
            "text/plain": [
              "HBox(children=(FloatProgress(value=0.0, description='Downloading', max=435779157.0, style=ProgressStyle(descri…"
            ]
          },
          "metadata": {
            "tags": []
          }
        },
        {
          "output_type": "stream",
          "text": [
            "\n"
          ],
          "name": "stdout"
        }
      ]
    },
    {
      "cell_type": "code",
      "metadata": {
        "id": "oHrR6YbHVL3j",
        "colab_type": "code",
        "colab": {}
      },
      "source": [
        "class SentimentClassifier(nn.Module):\n",
        "\n",
        "  def __init__(self, n_classes):\n",
        "    super(SentimentClassifier, self).__init__()\n",
        "    self.bert = BertModel.from_pretrained(bert_cased)\n",
        "    self.drop = nn.Dropout(p=0.3)\n",
        "    self.out = nn.Linear(self.bert.config.hidden_size, n_classes)\n",
        "  \n",
        "  def forward(self, input_ids, attention_mask):\n",
        "    _, pooled_output = self.bert(\n",
        "      input_ids=input_ids,\n",
        "      attention_mask=attention_mask\n",
        "    )\n",
        "    output = self.drop(pooled_output)\n",
        "    return self.out(output)"
      ],
      "execution_count": null,
      "outputs": []
    },
    {
      "cell_type": "code",
      "metadata": {
        "id": "6sQjPwcGVWzS",
        "colab_type": "code",
        "colab": {}
      },
      "source": [
        "cls_model = SentimentClassifier(3)\n",
        "cls_model = cls_model.to(device)"
      ],
      "execution_count": null,
      "outputs": []
    },
    {
      "cell_type": "markdown",
      "metadata": {
        "id": "Slmcx-FbbcDL",
        "colab_type": "text"
      },
      "source": [
        "###Training the Model"
      ]
    },
    {
      "cell_type": "markdown",
      "metadata": {
        "id": "LAN-3ggcbptC",
        "colab_type": "text"
      },
      "source": [
        "With more AdamW is an optimizer provided by Hugging Face Library. Shortly, it helps to accelerate training and avoid weight decay. We train the model by utilizing linear scheduler, but without warmup steps (num_warmup_steps).\n",
        "Authors suggest using 2, 3, or 4 epochs. I'll use 4."
      ]
    },
    {
      "cell_type": "code",
      "metadata": {
        "id": "dhZPHijXWFrr",
        "colab_type": "code",
        "colab": {}
      },
      "source": [
        "EPOCHS = 4\n",
        "\n",
        "optimizer = AdamW(cls_model.parameters(), lr=2e-5, correct_bias=False)\n",
        "total_steps = len(dataloader_train) * EPOCHS\n",
        "ln_scheduler = get_linear_schedule_with_warmup(optimizer, num_warmup_steps=0,num_training_steps=total_steps)\n",
        "loss_func = nn.CrossEntropyLoss().to(device)"
      ],
      "execution_count": null,
      "outputs": []
    },
    {
      "cell_type": "code",
      "metadata": {
        "id": "5F-mPlKXWJjo",
        "colab_type": "code",
        "colab": {}
      },
      "source": [
        "def training_epochs( model, data_loader, loss_fn, optimizer, device, scheduler, n_examples):\n",
        "  model = cls_model.train()\n",
        "\n",
        "  losses = []\n",
        "  correct_preds = 0\n",
        "  \n",
        "  for x in data_loader:\n",
        "    input_ids = x[\"input_ids\"].to(device)\n",
        "    attention_mask = x[\"attention_mask\"].to(device)\n",
        "    targets = x[\"targets\"].to(device)\n",
        "\n",
        "    outputs = model(input_ids=input_ids,attention_mask=attention_mask)\n",
        "\n",
        "    _, preds = torch.max(outputs, dim=1)\n",
        "    loss = loss_fn(outputs, targets)\n",
        "\n",
        "    correct_preds += torch.sum(preds == targets)\n",
        "    losses.append(loss.item())\n",
        "\n",
        "    loss.backward()\n",
        "    nn.utils.clip_grad_norm_(model.parameters(), max_norm=1.0)\n",
        "    optimizer.step()\n",
        "    scheduler.step()\n",
        "    optimizer.zero_grad()\n",
        "\n",
        "  return correct_preds.double() / n_examples, np.mean(losses)"
      ],
      "execution_count": null,
      "outputs": []
    },
    {
      "cell_type": "code",
      "metadata": {
        "id": "f0DOjSH5WctT",
        "colab_type": "code",
        "colab": {}
      },
      "source": [
        "def evaluate_model(model, data_loader, loss_fn, device, n_examples):\n",
        "  model = cls_model.eval()\n",
        "\n",
        "  losses = []\n",
        "  correct_preds = 0\n",
        "\n",
        "  with torch.no_grad():\n",
        "    for x in data_loader:\n",
        "      input_ids = x[\"input_ids\"].to(device)\n",
        "      attention_mask = x[\"attention_mask\"].to(device)\n",
        "      targets = x[\"targets\"].to(device)\n",
        "\n",
        "      outputs = model(input_ids=input_ids,attention_mask=attention_mask)\n",
        "      _, preds = torch.max(outputs, dim=1)\n",
        "\n",
        "      loss = loss_fn(outputs, targets)\n",
        "\n",
        "      correct_preds += torch.sum(preds == targets)\n",
        "      losses.append(loss.item())\n",
        "\n",
        "  return correct_preds.double() / n_examples, np.mean(losses)"
      ],
      "execution_count": null,
      "outputs": []
    },
    {
      "cell_type": "code",
      "metadata": {
        "id": "if9i8aKcWlmj",
        "colab_type": "code",
        "colab": {
          "base_uri": "https://localhost:8080/",
          "height": 323
        },
        "outputId": "d5ddbf5c-af27-496a-88a3-c6733bcdd188"
      },
      "source": [
        "%%time\n",
        "\n",
        "\n",
        "history = defaultdict(list)\n",
        "best_accuracy = 0\n",
        "\n",
        "for epoch in range(EPOCHS):\n",
        "\n",
        "  print(f'===== EPOCH {epoch + 1}/{EPOCHS} =====')\n",
        "\n",
        "  acc_train, loss_train = training_epochs(cls_model, dataloader_train, loss_func, optimizer, device, ln_scheduler, len(df_train))\n",
        "\n",
        "  print(f'Train loss {loss_train} accuracy {acc_train}')\n",
        "\n",
        "  acc_val, loss_val = evaluate_model(cls_model, dataloader_val, loss_func, device, len(df_val))\n",
        "\n",
        "  print(f'Val loss {loss_val} accuracy {acc_val}')\n",
        "  print('')\n",
        "\n",
        "  history['acc_train'].append(acc_train)\n",
        "  history['loss_train'].append(loss_train)\n",
        "  history['acc_val'].append(acc_val)\n",
        "  history['loss_val'].append(loss_val)\n",
        "\n",
        "  if acc_val > best_accuracy:\n",
        "    torch.save(cls_model.state_dict(), 'best_model_state.bin')\n",
        "    best_accuracy = acc_val"
      ],
      "execution_count": null,
      "outputs": [
        {
          "output_type": "stream",
          "text": [
            "===== EPOCH 1/4 =====\n",
            "Train loss 0.65569364016384 accuracy 0.726205694363742\n",
            "Val loss 0.5580893804629644 accuracy 0.7786561264822135\n",
            "\n",
            "===== EPOCH 2/4 =====\n",
            "Train loss 0.4119096614946663 accuracy 0.8353282975014527\n",
            "Val loss 0.6015690509229898 accuracy 0.7865612648221344\n",
            "\n",
            "===== EPOCH 3/4 =====\n",
            "Train loss 0.2764161747212082 accuracy 0.895642068564788\n",
            "Val loss 0.6881636890272299 accuracy 0.7773386034255599\n",
            "\n",
            "===== EPOCH 4/4 =====\n",
            "Train loss 0.1785421982116748 accuracy 0.9417780360255665\n",
            "Val loss 0.7736372190217177 accuracy 0.7681159420289856\n",
            "\n",
            "CPU times: user 18min 35s, sys: 11min 40s, total: 30min 16s\n",
            "Wall time: 30min 26s\n"
          ],
          "name": "stdout"
        }
      ]
    },
    {
      "cell_type": "code",
      "metadata": {
        "id": "EjK35sPos7rS",
        "colab_type": "code",
        "colab": {
          "base_uri": "https://localhost:8080/",
          "height": 34
        },
        "outputId": "ebd35d7e-cefc-408f-dcd5-d7523bcc2abf"
      },
      "source": [
        "best_accuracy"
      ],
      "execution_count": null,
      "outputs": [
        {
          "output_type": "execute_result",
          "data": {
            "text/plain": [
              "tensor(0.7866, device='cuda:0', dtype=torch.float64)"
            ]
          },
          "metadata": {
            "tags": []
          },
          "execution_count": 21
        }
      ]
    },
    {
      "cell_type": "markdown",
      "metadata": {
        "id": "a4SzoQvNvFuQ",
        "colab_type": "text"
      },
      "source": [
        "The highest accuracy of 78.6% was on the 2nd epoch"
      ]
    },
    {
      "cell_type": "markdown",
      "metadata": {
        "id": "GH0Jvb6sWwX-",
        "colab_type": "text"
      },
      "source": [
        "##Evaluating Our Model"
      ]
    },
    {
      "cell_type": "markdown",
      "metadata": {
        "id": "GhhqM0QU5VfA",
        "colab_type": "text"
      },
      "source": [
        "###Creating a funtion to get predictions"
      ]
    },
    {
      "cell_type": "markdown",
      "metadata": {
        "id": "9yI_8txctrJH",
        "colab_type": "text"
      },
      "source": [
        "We got our test set and now we can run our fine-tuned model to generate predictions on the set.\n",
        "Let's get the accuracy on the test set."
      ]
    },
    {
      "cell_type": "code",
      "metadata": {
        "id": "MZEJuJrjWvec",
        "colab_type": "code",
        "colab": {
          "base_uri": "https://localhost:8080/",
          "height": 34
        },
        "outputId": "e5124e74-2671-4cc6-bbb4-a9c7df2f71c7"
      },
      "source": [
        "acc_test, _ = evaluate_model(cls_model, dataloader_test, loss_func, device, len(df_test))\n",
        "acc_test.item()"
      ],
      "execution_count": null,
      "outputs": [
        {
          "output_type": "execute_result",
          "data": {
            "text/plain": [
              "0.7671052631578947"
            ]
          },
          "metadata": {
            "tags": []
          },
          "execution_count": 23
        }
      ]
    },
    {
      "cell_type": "markdown",
      "metadata": {
        "id": "IL_3hM5cvaPL",
        "colab_type": "text"
      },
      "source": [
        "The accuracy on the Test set is around 2% lower. Let's try to look deeper and evaluate our model."
      ]
    },
    {
      "cell_type": "code",
      "metadata": {
        "id": "1fk6Phi8W2dp",
        "colab_type": "code",
        "colab": {}
      },
      "source": [
        "def get_predictions(model, data_loader):\n",
        "  model = cls_model.eval()\n",
        "  \n",
        "  reviews = []\n",
        "  predictions = []\n",
        "  prediction_probs = []\n",
        "  real_values = []\n",
        "\n",
        "  with torch.no_grad():\n",
        "    for d in data_loader:\n",
        "\n",
        "      texts = d[\"review_text\"]\n",
        "      input_ids = d[\"input_ids\"].to(device)\n",
        "      attention_mask = d[\"attention_mask\"].to(device)\n",
        "      targets = d[\"targets\"].to(device)\n",
        "\n",
        "      outputs = model(\n",
        "        input_ids=input_ids,\n",
        "        attention_mask=attention_mask\n",
        "      )\n",
        "      _, preds = torch.max(outputs, dim=1)\n",
        "\n",
        "      probs = F.softmax(outputs, dim=1)\n",
        "\n",
        "      reviews.extend(texts)\n",
        "      predictions.extend(preds)\n",
        "      prediction_probs.extend(probs)\n",
        "      real_values.extend(targets)\n",
        "\n",
        "  predictions = torch.stack(predictions).cpu()\n",
        "  prediction_probs = torch.stack(prediction_probs).cpu()\n",
        "  real_values = torch.stack(real_values).cpu()\n",
        "  return reviews, predictions, prediction_probs, real_values"
      ],
      "execution_count": null,
      "outputs": []
    },
    {
      "cell_type": "markdown",
      "metadata": {
        "id": "48HJV_fTv6JF",
        "colab_type": "text"
      },
      "source": [
        "This function gets us reviews with their prediction probabilities and we can use them to see"
      ]
    },
    {
      "cell_type": "code",
      "metadata": {
        "id": "h3AkyiPTW7i4",
        "colab_type": "code",
        "colab": {}
      },
      "source": [
        "y_review_texts, y_pred, y_pred_probs, y_test = get_predictions(cls_model,dataloader_test)"
      ],
      "execution_count": null,
      "outputs": []
    },
    {
      "cell_type": "markdown",
      "metadata": {
        "id": "vGaDzkWC5mUd",
        "colab_type": "text"
      },
      "source": [
        "###Confusion Matrix and Visualization"
      ]
    },
    {
      "cell_type": "code",
      "metadata": {
        "id": "qXUd1nEkXB1K",
        "colab_type": "code",
        "colab": {
          "base_uri": "https://localhost:8080/",
          "height": 187
        },
        "outputId": "56a88b7a-690e-4174-913e-7f8221775877"
      },
      "source": [
        "print(classification_report(y_test, y_pred, target_names=['negative', 'neutral', 'positive']))"
      ],
      "execution_count": null,
      "outputs": [
        {
          "output_type": "stream",
          "text": [
            "              precision    recall  f1-score   support\n",
            "\n",
            "    negative       0.81      0.79      0.80       223\n",
            "     neutral       0.43      0.49      0.46       140\n",
            "    positive       0.88      0.85      0.87       397\n",
            "\n",
            "    accuracy                           0.77       760\n",
            "   macro avg       0.71      0.71      0.71       760\n",
            "weighted avg       0.78      0.77      0.77       760\n",
            "\n"
          ],
          "name": "stdout"
        }
      ]
    },
    {
      "cell_type": "markdown",
      "metadata": {
        "id": "ANwTtKGzw81m",
        "colab_type": "text"
      },
      "source": [
        "The confusion matrix clearly shows us that our model classifies reviews with a 'positive' and 'negative' sentiment with hight acuracy. However, it fails to accurately classify reviews with neutral sentiment."
      ]
    },
    {
      "cell_type": "markdown",
      "metadata": {
        "id": "kC3vF-ykxiNd",
        "colab_type": "text"
      },
      "source": [
        "Let's create a heatmap. Hopefully, the heatmap will show the result clearer."
      ]
    },
    {
      "cell_type": "code",
      "metadata": {
        "id": "SwXehF4UXFeS",
        "colab_type": "code",
        "colab": {
          "base_uri": "https://localhost:8080/",
          "height": 634
        },
        "outputId": "d68f4742-1428-49ab-8470-cb6ca5d0673a"
      },
      "source": [
        "def show_confusion_matrix(confusion_matrix):\n",
        "  plt.figure(figsize=(10,10))\n",
        "  sns.set(style='darkgrid')\n",
        "  hmap = sns.heatmap(confusion_matrix, annot=True, fmt=\"d\", cmap=\"Blues\")\n",
        "  hmap.yaxis.set_ticklabels(hmap.yaxis.get_ticklabels(), rotation=0, ha='right')\n",
        "  hmap.xaxis.set_ticklabels(hmap.xaxis.get_ticklabels(), rotation=30, ha='right')\n",
        "  plt.ylabel('True sentiment')\n",
        "  plt.xlabel('Predicted sentiment');\n",
        "\n",
        "cm = confusion_matrix(y_test, y_pred)\n",
        "df_cm = pd.DataFrame(cm, index=['negative', 'neutral', 'positive'], columns=['negative', 'neutral', 'positive'])\n",
        "show_confusion_matrix(df_cm)"
      ],
      "execution_count": null,
      "outputs": [
        {
          "output_type": "display_data",
          "data": {
            "image/png": "[encoded data removed]",
            "text/plain": [
              "<Figure size 720x720 with 2 Axes>"
            ]
          },
          "metadata": {
            "tags": []
          }
        }
      ]
    },
    {
      "cell_type": "markdown",
      "metadata": {
        "id": "mm6L41_wqDYq",
        "colab_type": "text"
      },
      "source": [
        "###Results and Insights"
      ]
    },
    {
      "cell_type": "markdown",
      "metadata": {
        "id": "4_E1veOxqIRx",
        "colab_type": "text"
      },
      "source": [
        "Overall, our model is most accurate at classifying a **positive** sentiment, slightly less accurate at classifying **negative** sentiment, and very flawed at classifying a **neutral** sentiment. "
      ]
    },
    {
      "cell_type": "markdown",
      "metadata": {
        "id": "jWNxdcJCty6p",
        "colab_type": "text"
      },
      "source": [
        "Initially, in order to improve accuracy, I tried to tune the model differently and experiment with it. However, this didn't affect the results significantly. After some observations, I realized the data I was feeding affected the result. Let's take a look at the tables."
      ]
    },
    {
      "cell_type": "code",
      "metadata": {
        "id": "5tpJ3mhsGSsR",
        "colab_type": "code",
        "colab": {
          "base_uri": "https://localhost:8080/",
          "height": 111
        },
        "outputId": "e7de0d2c-3b3a-4527-c48d-b41ff9529061"
      },
      "source": [
        "nums = [[177, 69, 337], [2815,\t1857,\t5452]]\n",
        "d = pd.DataFrame(nums)\n",
        "d = d.rename(columns={0:'negative',1:'neutral',2:'positive'}, index={0:'num_cor_clas', 1:'num_rev_df'})\n",
        "d"
      ],
      "execution_count": 103,
      "outputs": [
        {
          "output_type": "execute_result",
          "data": {
            "text/html": [
              "<div>\n",
              "<style scoped>\n",
              "    .dataframe tbody tr th:only-of-type {\n",
              "        vertical-align: middle;\n",
              "    }\n",
              "\n",
              "    .dataframe tbody tr th {\n",
              "        vertical-align: top;\n",
              "    }\n",
              "\n",
              "    .dataframe thead th {\n",
              "        text-align: right;\n",
              "    }\n",
              "</style>\n",
              "<table border=\"1\" class=\"dataframe\">\n",
              "  <thead>\n",
              "    <tr style=\"text-align: right;\">\n",
              "      <th></th>\n",
              "      <th>negative</th>\n",
              "      <th>neutral</th>\n",
              "      <th>positive</th>\n",
              "    </tr>\n",
              "  </thead>\n",
              "  <tbody>\n",
              "    <tr>\n",
              "      <th>num_cor_clas</th>\n",
              "      <td>177</td>\n",
              "      <td>69</td>\n",
              "      <td>337</td>\n",
              "    </tr>\n",
              "    <tr>\n",
              "      <th>num_rev_df</th>\n",
              "      <td>2815</td>\n",
              "      <td>1857</td>\n",
              "      <td>5452</td>\n",
              "    </tr>\n",
              "  </tbody>\n",
              "</table>\n",
              "</div>"
            ],
            "text/plain": [
              "              negative  neutral  positive\n",
              "num_cor_clas       177       69       337\n",
              "num_rev_df        2815     1857      5452"
            ]
          },
          "metadata": {
            "tags": []
          },
          "execution_count": 103
        }
      ]
    },
    {
      "cell_type": "code",
      "metadata": {
        "id": "GRTDTaST-a4X",
        "colab_type": "code",
        "colab": {
          "base_uri": "https://localhost:8080/",
          "height": 111
        },
        "outputId": "0ee658ce-6096-46af-cd12-97066ba53e46"
      },
      "source": [
        "nums = [[177, 69, 337], [2815,\t1857,\t5452]]\n",
        "d = pd.DataFrame(nums)\n",
        "d[3] = d[0]+d[1]+d[2]\n",
        "d.loc[0] = d.loc[0]/d.loc[0][3]\n",
        "d.loc[1] = d.loc[1]/d.loc[1][3]\n",
        "d = d.drop(columns = [3])\n",
        "d = d.rename(columns={0:'negative',1:'neutral',2:'positive'}, index={0:'num_cor_clas', 1:'num_rev_df'})\n",
        "d"
      ],
      "execution_count": 107,
      "outputs": [
        {
          "output_type": "execute_result",
          "data": {
            "text/html": [
              "<div>\n",
              "<style scoped>\n",
              "    .dataframe tbody tr th:only-of-type {\n",
              "        vertical-align: middle;\n",
              "    }\n",
              "\n",
              "    .dataframe tbody tr th {\n",
              "        vertical-align: top;\n",
              "    }\n",
              "\n",
              "    .dataframe thead th {\n",
              "        text-align: right;\n",
              "    }\n",
              "</style>\n",
              "<table border=\"1\" class=\"dataframe\">\n",
              "  <thead>\n",
              "    <tr style=\"text-align: right;\">\n",
              "      <th></th>\n",
              "      <th>negative</th>\n",
              "      <th>neutral</th>\n",
              "      <th>positive</th>\n",
              "    </tr>\n",
              "  </thead>\n",
              "  <tbody>\n",
              "    <tr>\n",
              "      <th>num_cor_clas</th>\n",
              "      <td>0.303602</td>\n",
              "      <td>0.118353</td>\n",
              "      <td>0.578045</td>\n",
              "    </tr>\n",
              "    <tr>\n",
              "      <th>num_rev_df</th>\n",
              "      <td>0.278052</td>\n",
              "      <td>0.183426</td>\n",
              "      <td>0.538522</td>\n",
              "    </tr>\n",
              "  </tbody>\n",
              "</table>\n",
              "</div>"
            ],
            "text/plain": [
              "              negative   neutral  positive\n",
              "num_cor_clas  0.303602  0.118353  0.578045\n",
              "num_rev_df    0.278052  0.183426  0.538522"
            ]
          },
          "metadata": {
            "tags": []
          },
          "execution_count": 107
        }
      ]
    },
    {
      "cell_type": "markdown",
      "metadata": {
        "id": "lB-5_nWVDxXY",
        "colab_type": "text"
      },
      "source": [
        "As you can see, each fraction of the total correctly classified reviews is roughly equal to each fraction of total reviews in our dataset.\n",
        "This means that our model didn't get enough data with neutral and negative sentiments to train on, to be as good at classifying the neutral and negative reviews as   positive reviews."
      ]
    },
    {
      "cell_type": "markdown",
      "metadata": {
        "id": "fUBbO16j5Lfl",
        "colab_type": "text"
      },
      "source": [
        "##Conclusion"
      ]
    },
    {
      "cell_type": "markdown",
      "metadata": {
        "id": "c2zC0qP15u9b",
        "colab_type": "text"
      },
      "source": [
        "Let's summarize what we have done so far.\n",
        "\n",
        "1. Pre-processed our cleaned dataset\n",
        "2. Built and trained the BERT model on Train set\n",
        "3. Evaluated the model on Test set\n",
        "4. Measured the accuracy of our model: precision, recall,  f1-score\n",
        "5. Found the reason why our model failed to classify the neutral and negative sentiments as good as positive sentiment\n",
        "\n"
      ]
    },
    {
      "cell_type": "markdown",
      "metadata": {
        "id": "QjahW0ZmnyD7",
        "colab_type": "text"
      },
      "source": [
        "#Credit"
      ]
    },
    {
      "cell_type": "markdown",
      "metadata": {
        "id": "IwTulrFrn1Nz",
        "colab_type": "text"
      },
      "source": [
        "Thanks to [Venelin Valkov](https://github.com/curiousily)'s clear tutorial and logical coding style at [Getting-Things-Done-with-Pytorch](https://github.com/curiousily/Getting-Things-Done-with-Pytorch/blob/master/08.sentiment-analysis-with-bert.ipynb)\n"
      ]
    }
  ]
}